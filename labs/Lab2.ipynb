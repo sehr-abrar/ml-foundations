{
 "cells": [
  {
   "cell_type": "markdown",
   "metadata": {},
   "source": [
    "# Lab 2: ML Life Cycle: Data Understanding and Data Preparation"
   ]
  },
  {
   "cell_type": "code",
   "execution_count": 58,
   "metadata": {},
   "outputs": [],
   "source": [
    "import os\n",
    "import pandas as pd\n",
    "import numpy as np\n",
    "%matplotlib inline\n",
    "import matplotlib.pyplot as plt \n",
    "import seaborn as sns"
   ]
  },
  {
   "cell_type": "markdown",
   "metadata": {},
   "source": [
    "In this lab, you will practice the second and third steps of the machine learning life cycle: data understanding and data preparation. You will beging preparing your data so that it can be used to train a machine learning model that solves a regression problem. Note that by the end of the lab, your data set won't be completely ready for the modeling phase, but you will gain experience using some common data preparation techniques. \n",
    "\n",
    "You will complete the following tasks to transform your data:\n",
    "\n",
    "1. Build your data matrix and define your ML problem:\n",
    "    * Load the Airbnb \"listings\" data set into a DataFrame and inspect the data\n",
    "    * Define the label and convert the label's data type to one that is more suitable for modeling\n",
    "    * Identify features\n",
    "2. Clean your data:\n",
    "    * Handle outliers by building a new regression label column by winsorizing outliers\n",
    "    * Handle missing data by replacing all missing values in the dataset with means\n",
    "3. Perform feature transformation using one-hot encoding\n",
    "4. Explore your data:\n",
    "    * Identify two features with the highest correlation with label\n",
    "    * Build appropriate bivariate plots to visualize the correlations between features and the label\n",
    "5. Analysis:\n",
    "    * Analyze the relationship between the features and the label\n",
    "    * Brainstorm what else needs to be done to fully prepare the data for modeling"
   ]
  },
  {
   "cell_type": "markdown",
   "metadata": {},
   "source": [
    "## Part 1. Build Your Data Matrix (DataFrame) and Define Your ML Problem"
   ]
  },
  {
   "cell_type": "markdown",
   "metadata": {},
   "source": [
    "#### Load a Data Set and Save it as a Pandas DataFrame"
   ]
  },
  {
   "cell_type": "markdown",
   "metadata": {},
   "source": [
    "We will be working with the Airbnb NYC \"listings\" data set. Use the specified path and name of the file to load the data. Save it as a Pandas DataFrame called `df`."
   ]
  },
  {
   "cell_type": "code",
   "execution_count": 59,
   "metadata": {},
   "outputs": [],
   "source": [
    "# Do not remove or edit the line below:\n",
    "filename = os.path.join(os.getcwd(), \"data\", \"airbnbData.csv\")"
   ]
  },
  {
   "cell_type": "markdown",
   "metadata": {},
   "source": [
    "**Task**: Load the data and save it to DataFrame `df`.\n",
    "\n",
    "<i>Note:</i> You may receive a warning message. Ignore this warning."
   ]
  },
  {
   "cell_type": "code",
   "execution_count": 60,
   "metadata": {},
   "outputs": [],
   "source": [
    "df = pd.read_csv(filename, low_memory=False) # to not get error"
   ]
  },
  {
   "cell_type": "markdown",
   "metadata": {},
   "source": [
    "####  Inspect the Data\n"
   ]
  },
  {
   "cell_type": "markdown",
   "metadata": {},
   "source": [
    "<b>Task</b>: Display the shape of `df` -- that is, the number of rows and columns."
   ]
  },
  {
   "cell_type": "code",
   "execution_count": 61,
   "metadata": {},
   "outputs": [
    {
     "data": {
      "text/plain": [
       "(38277, 74)"
      ]
     },
     "execution_count": 61,
     "metadata": {},
     "output_type": "execute_result"
    }
   ],
   "source": [
    "df.shape"
   ]
  },
  {
   "cell_type": "markdown",
   "metadata": {},
   "source": [
    "<b>Task</b>: Display the column names."
   ]
  },
  {
   "cell_type": "code",
   "execution_count": 62,
   "metadata": {},
   "outputs": [
    {
     "data": {
      "text/plain": [
       "Index(['id', 'listing_url', 'scrape_id', 'last_scraped', 'name', 'description',\n",
       "       'neighborhood_overview', 'picture_url', 'host_id', 'host_url',\n",
       "       'host_name', 'host_since', 'host_location', 'host_about',\n",
       "       'host_response_time', 'host_response_rate', 'host_acceptance_rate',\n",
       "       'host_is_superhost', 'host_thumbnail_url', 'host_picture_url',\n",
       "       'host_neighbourhood', 'host_listings_count',\n",
       "       'host_total_listings_count', 'host_verifications',\n",
       "       'host_has_profile_pic', 'host_identity_verified', 'neighbourhood',\n",
       "       'neighbourhood_cleansed', 'neighbourhood_group_cleansed', 'latitude',\n",
       "       'longitude', 'property_type', 'room_type', 'accommodates', 'bathrooms',\n",
       "       'bathrooms_text', 'bedrooms', 'beds', 'amenities', 'price',\n",
       "       'minimum_nights', 'maximum_nights', 'minimum_minimum_nights',\n",
       "       'maximum_minimum_nights', 'minimum_maximum_nights',\n",
       "       'maximum_maximum_nights', 'minimum_nights_avg_ntm',\n",
       "       'maximum_nights_avg_ntm', 'calendar_updated', 'has_availability',\n",
       "       'availability_30', 'availability_60', 'availability_90',\n",
       "       'availability_365', 'calendar_last_scraped', 'number_of_reviews',\n",
       "       'number_of_reviews_ltm', 'number_of_reviews_l30d', 'first_review',\n",
       "       'last_review', 'review_scores_rating', 'review_scores_accuracy',\n",
       "       'review_scores_cleanliness', 'review_scores_checkin',\n",
       "       'review_scores_communication', 'review_scores_location',\n",
       "       'review_scores_value', 'license', 'instant_bookable',\n",
       "       'calculated_host_listings_count',\n",
       "       'calculated_host_listings_count_entire_homes',\n",
       "       'calculated_host_listings_count_private_rooms',\n",
       "       'calculated_host_listings_count_shared_rooms', 'reviews_per_month'],\n",
       "      dtype='object')"
      ]
     },
     "execution_count": 62,
     "metadata": {},
     "output_type": "execute_result"
    }
   ],
   "source": [
    "df.columns"
   ]
  },
  {
   "cell_type": "markdown",
   "metadata": {},
   "source": [
    "**Task**: Get a peek at the data by displaying the first few rows, as you usually do."
   ]
  },
  {
   "cell_type": "code",
   "execution_count": 63,
   "metadata": {},
   "outputs": [
    {
     "data": {
      "text/html": [
       "<div>\n",
       "<style scoped>\n",
       "    .dataframe tbody tr th:only-of-type {\n",
       "        vertical-align: middle;\n",
       "    }\n",
       "\n",
       "    .dataframe tbody tr th {\n",
       "        vertical-align: top;\n",
       "    }\n",
       "\n",
       "    .dataframe thead th {\n",
       "        text-align: right;\n",
       "    }\n",
       "</style>\n",
       "<table border=\"1\" class=\"dataframe\">\n",
       "  <thead>\n",
       "    <tr style=\"text-align: right;\">\n",
       "      <th></th>\n",
       "      <th>id</th>\n",
       "      <th>listing_url</th>\n",
       "      <th>scrape_id</th>\n",
       "      <th>last_scraped</th>\n",
       "      <th>name</th>\n",
       "      <th>description</th>\n",
       "      <th>neighborhood_overview</th>\n",
       "      <th>picture_url</th>\n",
       "      <th>host_id</th>\n",
       "      <th>host_url</th>\n",
       "      <th>...</th>\n",
       "      <th>review_scores_communication</th>\n",
       "      <th>review_scores_location</th>\n",
       "      <th>review_scores_value</th>\n",
       "      <th>license</th>\n",
       "      <th>instant_bookable</th>\n",
       "      <th>calculated_host_listings_count</th>\n",
       "      <th>calculated_host_listings_count_entire_homes</th>\n",
       "      <th>calculated_host_listings_count_private_rooms</th>\n",
       "      <th>calculated_host_listings_count_shared_rooms</th>\n",
       "      <th>reviews_per_month</th>\n",
       "    </tr>\n",
       "  </thead>\n",
       "  <tbody>\n",
       "    <tr>\n",
       "      <th>0</th>\n",
       "      <td>2595</td>\n",
       "      <td>https://www.airbnb.com/rooms/2595</td>\n",
       "      <td>20211204143024</td>\n",
       "      <td>2021-12-05</td>\n",
       "      <td>Skylit Midtown Castle</td>\n",
       "      <td>Beautiful, spacious skylit studio in the heart...</td>\n",
       "      <td>Centrally located in the heart of Manhattan ju...</td>\n",
       "      <td>https://a0.muscache.com/pictures/f0813a11-40b2...</td>\n",
       "      <td>2845</td>\n",
       "      <td>https://www.airbnb.com/users/show/2845</td>\n",
       "      <td>...</td>\n",
       "      <td>4.79</td>\n",
       "      <td>4.86</td>\n",
       "      <td>4.41</td>\n",
       "      <td>NaN</td>\n",
       "      <td>f</td>\n",
       "      <td>3</td>\n",
       "      <td>3</td>\n",
       "      <td>0</td>\n",
       "      <td>0</td>\n",
       "      <td>0.33</td>\n",
       "    </tr>\n",
       "    <tr>\n",
       "      <th>1</th>\n",
       "      <td>3831</td>\n",
       "      <td>https://www.airbnb.com/rooms/3831</td>\n",
       "      <td>20211204143024</td>\n",
       "      <td>2021-12-05</td>\n",
       "      <td>Whole flr w/private bdrm, bath &amp; kitchen(pls r...</td>\n",
       "      <td>Enjoy 500 s.f. top floor in 1899 brownstone, w...</td>\n",
       "      <td>Just the right mix of urban center and local n...</td>\n",
       "      <td>https://a0.muscache.com/pictures/e49999c2-9fd5...</td>\n",
       "      <td>4869</td>\n",
       "      <td>https://www.airbnb.com/users/show/4869</td>\n",
       "      <td>...</td>\n",
       "      <td>4.80</td>\n",
       "      <td>4.71</td>\n",
       "      <td>4.64</td>\n",
       "      <td>NaN</td>\n",
       "      <td>f</td>\n",
       "      <td>1</td>\n",
       "      <td>1</td>\n",
       "      <td>0</td>\n",
       "      <td>0</td>\n",
       "      <td>4.86</td>\n",
       "    </tr>\n",
       "    <tr>\n",
       "      <th>2</th>\n",
       "      <td>5121</td>\n",
       "      <td>https://www.airbnb.com/rooms/5121</td>\n",
       "      <td>20211204143024</td>\n",
       "      <td>2021-12-05</td>\n",
       "      <td>BlissArtsSpace!</td>\n",
       "      <td>&lt;b&gt;The space&lt;/b&gt;&lt;br /&gt;HELLO EVERYONE AND THANK...</td>\n",
       "      <td>NaN</td>\n",
       "      <td>https://a0.muscache.com/pictures/2090980c-b68e...</td>\n",
       "      <td>7356</td>\n",
       "      <td>https://www.airbnb.com/users/show/7356</td>\n",
       "      <td>...</td>\n",
       "      <td>4.91</td>\n",
       "      <td>4.47</td>\n",
       "      <td>4.52</td>\n",
       "      <td>NaN</td>\n",
       "      <td>f</td>\n",
       "      <td>2</td>\n",
       "      <td>0</td>\n",
       "      <td>2</td>\n",
       "      <td>0</td>\n",
       "      <td>0.52</td>\n",
       "    </tr>\n",
       "    <tr>\n",
       "      <th>3</th>\n",
       "      <td>5136</td>\n",
       "      <td>https://www.airbnb.com/rooms/5136</td>\n",
       "      <td>20211204143024</td>\n",
       "      <td>2021-12-05</td>\n",
       "      <td>Spacious Brooklyn Duplex, Patio + Garden</td>\n",
       "      <td>We welcome you to stay in our lovely 2 br dupl...</td>\n",
       "      <td>NaN</td>\n",
       "      <td>https://a0.muscache.com/pictures/miso/Hosting-...</td>\n",
       "      <td>7378</td>\n",
       "      <td>https://www.airbnb.com/users/show/7378</td>\n",
       "      <td>...</td>\n",
       "      <td>5.00</td>\n",
       "      <td>4.50</td>\n",
       "      <td>5.00</td>\n",
       "      <td>NaN</td>\n",
       "      <td>f</td>\n",
       "      <td>1</td>\n",
       "      <td>1</td>\n",
       "      <td>0</td>\n",
       "      <td>0</td>\n",
       "      <td>0.02</td>\n",
       "    </tr>\n",
       "    <tr>\n",
       "      <th>4</th>\n",
       "      <td>5178</td>\n",
       "      <td>https://www.airbnb.com/rooms/5178</td>\n",
       "      <td>20211204143024</td>\n",
       "      <td>2021-12-05</td>\n",
       "      <td>Large Furnished Room Near B'way</td>\n",
       "      <td>Please don’t expect the luxury here just a bas...</td>\n",
       "      <td>Theater district, many restaurants around here.</td>\n",
       "      <td>https://a0.muscache.com/pictures/12065/f070997...</td>\n",
       "      <td>8967</td>\n",
       "      <td>https://www.airbnb.com/users/show/8967</td>\n",
       "      <td>...</td>\n",
       "      <td>4.42</td>\n",
       "      <td>4.87</td>\n",
       "      <td>4.36</td>\n",
       "      <td>NaN</td>\n",
       "      <td>f</td>\n",
       "      <td>1</td>\n",
       "      <td>0</td>\n",
       "      <td>1</td>\n",
       "      <td>0</td>\n",
       "      <td>3.68</td>\n",
       "    </tr>\n",
       "  </tbody>\n",
       "</table>\n",
       "<p>5 rows × 74 columns</p>\n",
       "</div>"
      ],
      "text/plain": [
       "     id                        listing_url       scrape_id last_scraped  \\\n",
       "0  2595  https://www.airbnb.com/rooms/2595  20211204143024   2021-12-05   \n",
       "1  3831  https://www.airbnb.com/rooms/3831  20211204143024   2021-12-05   \n",
       "2  5121  https://www.airbnb.com/rooms/5121  20211204143024   2021-12-05   \n",
       "3  5136  https://www.airbnb.com/rooms/5136  20211204143024   2021-12-05   \n",
       "4  5178  https://www.airbnb.com/rooms/5178  20211204143024   2021-12-05   \n",
       "\n",
       "                                                name  \\\n",
       "0                              Skylit Midtown Castle   \n",
       "1  Whole flr w/private bdrm, bath & kitchen(pls r...   \n",
       "2                                    BlissArtsSpace!   \n",
       "3           Spacious Brooklyn Duplex, Patio + Garden   \n",
       "4                   Large Furnished Room Near B'way　   \n",
       "\n",
       "                                         description  \\\n",
       "0  Beautiful, spacious skylit studio in the heart...   \n",
       "1  Enjoy 500 s.f. top floor in 1899 brownstone, w...   \n",
       "2  <b>The space</b><br />HELLO EVERYONE AND THANK...   \n",
       "3  We welcome you to stay in our lovely 2 br dupl...   \n",
       "4  Please don’t expect the luxury here just a bas...   \n",
       "\n",
       "                               neighborhood_overview  \\\n",
       "0  Centrally located in the heart of Manhattan ju...   \n",
       "1  Just the right mix of urban center and local n...   \n",
       "2                                                NaN   \n",
       "3                                                NaN   \n",
       "4    Theater district, many restaurants around here.   \n",
       "\n",
       "                                         picture_url  host_id  \\\n",
       "0  https://a0.muscache.com/pictures/f0813a11-40b2...     2845   \n",
       "1  https://a0.muscache.com/pictures/e49999c2-9fd5...     4869   \n",
       "2  https://a0.muscache.com/pictures/2090980c-b68e...     7356   \n",
       "3  https://a0.muscache.com/pictures/miso/Hosting-...     7378   \n",
       "4  https://a0.muscache.com/pictures/12065/f070997...     8967   \n",
       "\n",
       "                                 host_url  ... review_scores_communication  \\\n",
       "0  https://www.airbnb.com/users/show/2845  ...                        4.79   \n",
       "1  https://www.airbnb.com/users/show/4869  ...                        4.80   \n",
       "2  https://www.airbnb.com/users/show/7356  ...                        4.91   \n",
       "3  https://www.airbnb.com/users/show/7378  ...                        5.00   \n",
       "4  https://www.airbnb.com/users/show/8967  ...                        4.42   \n",
       "\n",
       "  review_scores_location review_scores_value license instant_bookable  \\\n",
       "0                   4.86                4.41     NaN                f   \n",
       "1                   4.71                4.64     NaN                f   \n",
       "2                   4.47                4.52     NaN                f   \n",
       "3                   4.50                5.00     NaN                f   \n",
       "4                   4.87                4.36     NaN                f   \n",
       "\n",
       "  calculated_host_listings_count calculated_host_listings_count_entire_homes  \\\n",
       "0                              3                                           3   \n",
       "1                              1                                           1   \n",
       "2                              2                                           0   \n",
       "3                              1                                           1   \n",
       "4                              1                                           0   \n",
       "\n",
       "  calculated_host_listings_count_private_rooms  \\\n",
       "0                                            0   \n",
       "1                                            0   \n",
       "2                                            2   \n",
       "3                                            0   \n",
       "4                                            1   \n",
       "\n",
       "  calculated_host_listings_count_shared_rooms reviews_per_month  \n",
       "0                                           0              0.33  \n",
       "1                                           0              4.86  \n",
       "2                                           0              0.52  \n",
       "3                                           0              0.02  \n",
       "4                                           0              3.68  \n",
       "\n",
       "[5 rows x 74 columns]"
      ]
     },
     "execution_count": 63,
     "metadata": {},
     "output_type": "execute_result"
    }
   ],
   "source": [
    "df.head()"
   ]
  },
  {
   "cell_type": "markdown",
   "metadata": {},
   "source": [
    "#### Define the Label"
   ]
  },
  {
   "cell_type": "markdown",
   "metadata": {},
   "source": [
    "Assume that your goal is to train a machine learning model that predicts the price of an Airbnb. This is an example of supervised learning and is a regression problem. In our dataset, our label will be the `price` column. Let's inspect the values in the `price` column."
   ]
  },
  {
   "cell_type": "code",
   "execution_count": 64,
   "metadata": {},
   "outputs": [
    {
     "data": {
      "text/plain": [
       "0        $150.00\n",
       "1         $75.00\n",
       "2         $60.00\n",
       "3        $275.00\n",
       "4         $68.00\n",
       "          ...   \n",
       "38272     $79.00\n",
       "38273     $76.00\n",
       "38274    $116.00\n",
       "38275    $106.00\n",
       "38276    $689.00\n",
       "Name: price, Length: 38277, dtype: object"
      ]
     },
     "execution_count": 64,
     "metadata": {},
     "output_type": "execute_result"
    }
   ],
   "source": [
    "df['price']"
   ]
  },
  {
   "cell_type": "markdown",
   "metadata": {},
   "source": [
    "Notice the `price` column contains values that are listed as $<$currency_name$>$$<$numeric_value$>$. \n",
    "<br>For example, it contains values that look like this: `$120`. <br>\n",
    "\n",
    "**Task**:  Obtain the data type of the values in this column:"
   ]
  },
  {
   "cell_type": "code",
   "execution_count": 65,
   "metadata": {},
   "outputs": [
    {
     "data": {
      "text/plain": [
       "dtype('O')"
      ]
     },
     "execution_count": 65,
     "metadata": {},
     "output_type": "execute_result"
    }
   ],
   "source": [
    "df['price'].dtype"
   ]
  },
  {
   "cell_type": "markdown",
   "metadata": {},
   "source": [
    "Notice that the data type is \"object,\" which in Pandas translates to the String data type."
   ]
  },
  {
   "cell_type": "markdown",
   "metadata": {},
   "source": [
    "**Task**:  Display the first 15 unique values of  the `price` column:"
   ]
  },
  {
   "cell_type": "code",
   "execution_count": 66,
   "metadata": {},
   "outputs": [
    {
     "data": {
      "text/plain": [
       "array(['$150.00', '$75.00', '$60.00', '$275.00', '$68.00', '$98.00',\n",
       "       '$89.00', '$65.00', '$62.00', '$90.00', '$199.00', '$96.00',\n",
       "       '$299.00', '$140.00', '$175.00'], dtype=object)"
      ]
     },
     "execution_count": 66,
     "metadata": {},
     "output_type": "execute_result"
    }
   ],
   "source": [
    "df['price'].unique()[:15]"
   ]
  },
  {
   "cell_type": "markdown",
   "metadata": {},
   "source": [
    "In order for us to use the prices for modeling, we will have to transform the values in the `price` column from strings to floats. We will:\n",
    "\n",
    "* remove the dollar signs (in this case, the platform forces the currency to be the USD, so we do not need to worry about targeting, say, the Japanese Yen sign, nor about converting the values into USD). \n",
    "* remove the commas from all values that are in the thousands or above: for example, `$2,500`. \n",
    "\n",
    "The code cell below accomplishes this."
   ]
  },
  {
   "cell_type": "code",
   "execution_count": 67,
   "metadata": {},
   "outputs": [],
   "source": [
    "df['price'] = df['price'].str.replace(',', '')\n",
    "df['price'] = df['price'].str.replace('$', '')\n",
    "df['price'] = df['price'].astype(float)"
   ]
  },
  {
   "cell_type": "markdown",
   "metadata": {},
   "source": [
    "**Task**:  Display the first 15 unique values of  the `price` column again to make sure they have been transformed."
   ]
  },
  {
   "cell_type": "code",
   "execution_count": 68,
   "metadata": {},
   "outputs": [
    {
     "data": {
      "text/plain": [
       "array([150.,  75.,  60., 275.,  68.,  98.,  89.,  65.,  62.,  90., 199.,\n",
       "        96., 299., 140., 175.])"
      ]
     },
     "execution_count": 68,
     "metadata": {},
     "output_type": "execute_result"
    }
   ],
   "source": [
    "df['price'].unique()[:15]"
   ]
  },
  {
   "cell_type": "markdown",
   "metadata": {},
   "source": [
    "#### Identify Features"
   ]
  },
  {
   "cell_type": "markdown",
   "metadata": {},
   "source": [
    "Simply by inspecting the data, let's identify some columns that should not serve as features - those that will not help us solve our predictive ML problem. "
   ]
  },
  {
   "cell_type": "markdown",
   "metadata": {},
   "source": [
    "Some that stand out are columns that contain website addresses (URLs).\n",
    "\n",
    "**Task**: Create a list which contains the names of columns that contain URLs. Save the resulting list to variable `url_colnames`.\n",
    "\n",
    "*Tip*: There are different ways to accomplish this, including using Python list comprehensions."
   ]
  },
  {
   "cell_type": "code",
   "execution_count": 69,
   "metadata": {},
   "outputs": [
    {
     "data": {
      "text/plain": [
       "['listing_url',\n",
       " 'picture_url',\n",
       " 'host_url',\n",
       " 'host_thumbnail_url',\n",
       " 'host_picture_url']"
      ]
     },
     "execution_count": 69,
     "metadata": {},
     "output_type": "execute_result"
    }
   ],
   "source": [
    "url_colnames = [col for col in df.columns if 'url' in col.lower()]\n",
    "url_colnames"
   ]
  },
  {
   "cell_type": "markdown",
   "metadata": {},
   "source": [
    "**Task**: Drop the columns with the specified names contained in list `url_colnames` in place (that is, make sure this change applies to the original DataFrame `df`, instead of creating a temporary new DataFrame object with fewer columns)."
   ]
  },
  {
   "cell_type": "code",
   "execution_count": 70,
   "metadata": {},
   "outputs": [],
   "source": [
    "df.drop(columns=url_colnames, inplace=True)"
   ]
  },
  {
   "cell_type": "markdown",
   "metadata": {},
   "source": [
    "**Task**: Display the shape of the data to verify that the new number of columns is what you expected."
   ]
  },
  {
   "cell_type": "code",
   "execution_count": 71,
   "metadata": {},
   "outputs": [
    {
     "data": {
      "text/plain": [
       "(38277, 69)"
      ]
     },
     "execution_count": 71,
     "metadata": {},
     "output_type": "execute_result"
    }
   ],
   "source": [
    "df.shape"
   ]
  },
  {
   "cell_type": "markdown",
   "metadata": {},
   "source": [
    "**Task**: In the code cell below, display the features that we will use to solve our ML problem."
   ]
  },
  {
   "cell_type": "code",
   "execution_count": 72,
   "metadata": {},
   "outputs": [
    {
     "name": "stdout",
     "output_type": "stream",
     "text": [
      "Index(['id', 'scrape_id', 'last_scraped', 'name', 'description',\n",
      "       'neighborhood_overview', 'host_id', 'host_name', 'host_since',\n",
      "       'host_location', 'host_about', 'host_response_time',\n",
      "       'host_response_rate', 'host_acceptance_rate', 'host_is_superhost',\n",
      "       'host_neighbourhood', 'host_listings_count',\n",
      "       'host_total_listings_count', 'host_verifications',\n",
      "       'host_has_profile_pic', 'host_identity_verified', 'neighbourhood',\n",
      "       'neighbourhood_cleansed', 'neighbourhood_group_cleansed', 'latitude',\n",
      "       'longitude', 'property_type', 'room_type', 'accommodates', 'bathrooms',\n",
      "       'bathrooms_text', 'bedrooms', 'beds', 'amenities', 'minimum_nights',\n",
      "       'maximum_nights', 'minimum_minimum_nights', 'maximum_minimum_nights',\n",
      "       'minimum_maximum_nights', 'maximum_maximum_nights',\n",
      "       'minimum_nights_avg_ntm', 'maximum_nights_avg_ntm', 'calendar_updated',\n",
      "       'has_availability', 'availability_30', 'availability_60',\n",
      "       'availability_90', 'availability_365', 'calendar_last_scraped',\n",
      "       'number_of_reviews', 'number_of_reviews_ltm', 'number_of_reviews_l30d',\n",
      "       'first_review', 'last_review', 'review_scores_rating',\n",
      "       'review_scores_accuracy', 'review_scores_cleanliness',\n",
      "       'review_scores_checkin', 'review_scores_communication',\n",
      "       'review_scores_location', 'review_scores_value', 'license',\n",
      "       'instant_bookable', 'calculated_host_listings_count',\n",
      "       'calculated_host_listings_count_entire_homes',\n",
      "       'calculated_host_listings_count_private_rooms',\n",
      "       'calculated_host_listings_count_shared_rooms', 'reviews_per_month'],\n",
      "      dtype='object')\n"
     ]
    }
   ],
   "source": [
    "features = df.columns.drop('price')\n",
    "print(features)"
   ]
  },
  {
   "cell_type": "markdown",
   "metadata": {},
   "source": [
    "**Task**: Are there any other features that you think may not be well suited for our machine learning problem? Note your findings in the markdown cell below."
   ]
  },
  {
   "cell_type": "markdown",
   "metadata": {},
   "source": [
    "### Features Not Well Suited for the Machine Learning Problem\n",
    "\n",
    "After inspecting the dataset, there are several features that may not be well suited for the regression problem of predicting price:\n",
    "\n",
    "- **ID Columns or Unique Identifiers:** Columns such as `id` or `listing_id` do not contain predictive information and can be dropped.\n",
    "- **Text-Heavy Columns:** Features like `name`, `description`, or `host_name` contain unstructured text data which requires special preprocessing (e.g., NLP techniques) and may not be useful in this initial modeling phase.\n",
    "- **Date/Time Columns:** Columns representing dates (e.g., `last_review`) may need to be transformed into numerical features (e.g., days since last review) before use.\n",
    "- **Highly Sparse or Categorical Features with Many Levels:** Features with too many categories or missing data may cause overfitting or require additional encoding and imputation.\n",
    "- **Columns Related to Location that are Too Detailed:** For example, exact addresses or URLs should be excluded, while broader location categories (like neighborhood or borough) can be useful.\n",
    "\n",
    "These columns should be carefully examined and preprocessed or removed to improve model performance."
   ]
  },
  {
   "cell_type": "markdown",
   "metadata": {},
   "source": [
    "## Part 2. Clean Your Data\n",
    "\n",
    "Let's now handle outliers and missing data."
   ]
  },
  {
   "cell_type": "markdown",
   "metadata": {},
   "source": [
    "### a. Handle Outliers\n",
    "\n",
    "Let us prepare the data in our label column. Namely, we will detect and replace outliers in the data using winsorization."
   ]
  },
  {
   "cell_type": "markdown",
   "metadata": {},
   "source": [
    "**Task**: Create a new version of the `price` column, named `label_price`, in which you will replace the top and bottom 1% outlier values with the corresponding percentile value. Add this new column to the DataFrame `df`."
   ]
  },
  {
   "cell_type": "markdown",
   "metadata": {},
   "source": [
    "Remember, you will first need to load the `stats` module from the `scipy` package:"
   ]
  },
  {
   "cell_type": "code",
   "execution_count": 73,
   "metadata": {},
   "outputs": [
    {
     "data": {
      "text/plain": [
       "count    38277.000000\n",
       "mean       159.502861\n",
       "std        154.957778\n",
       "min         29.000000\n",
       "25%         70.000000\n",
       "50%        114.000000\n",
       "75%        189.000000\n",
       "max       1000.000000\n",
       "Name: label_price, dtype: float64"
      ]
     },
     "execution_count": 73,
     "metadata": {},
     "output_type": "execute_result"
    }
   ],
   "source": [
    "from scipy import stats\n",
    "\n",
    "# winsorize price by capping bottom 1% and top 1% values\n",
    "df['label_price'] = stats.mstats.winsorize(df['price'], limits=[0.01, 0.01])\n",
    "\n",
    "# check the new column\n",
    "df['label_price'].describe()"
   ]
  },
  {
   "cell_type": "markdown",
   "metadata": {},
   "source": [
    "Let's verify that the new column `label_price` was added to DataFrame `df`:"
   ]
  },
  {
   "cell_type": "code",
   "execution_count": 74,
   "metadata": {},
   "outputs": [
    {
     "data": {
      "text/html": [
       "<div>\n",
       "<style scoped>\n",
       "    .dataframe tbody tr th:only-of-type {\n",
       "        vertical-align: middle;\n",
       "    }\n",
       "\n",
       "    .dataframe tbody tr th {\n",
       "        vertical-align: top;\n",
       "    }\n",
       "\n",
       "    .dataframe thead th {\n",
       "        text-align: right;\n",
       "    }\n",
       "</style>\n",
       "<table border=\"1\" class=\"dataframe\">\n",
       "  <thead>\n",
       "    <tr style=\"text-align: right;\">\n",
       "      <th></th>\n",
       "      <th>id</th>\n",
       "      <th>scrape_id</th>\n",
       "      <th>last_scraped</th>\n",
       "      <th>name</th>\n",
       "      <th>description</th>\n",
       "      <th>neighborhood_overview</th>\n",
       "      <th>host_id</th>\n",
       "      <th>host_name</th>\n",
       "      <th>host_since</th>\n",
       "      <th>host_location</th>\n",
       "      <th>...</th>\n",
       "      <th>review_scores_location</th>\n",
       "      <th>review_scores_value</th>\n",
       "      <th>license</th>\n",
       "      <th>instant_bookable</th>\n",
       "      <th>calculated_host_listings_count</th>\n",
       "      <th>calculated_host_listings_count_entire_homes</th>\n",
       "      <th>calculated_host_listings_count_private_rooms</th>\n",
       "      <th>calculated_host_listings_count_shared_rooms</th>\n",
       "      <th>reviews_per_month</th>\n",
       "      <th>label_price</th>\n",
       "    </tr>\n",
       "  </thead>\n",
       "  <tbody>\n",
       "    <tr>\n",
       "      <th>0</th>\n",
       "      <td>2595</td>\n",
       "      <td>20211204143024</td>\n",
       "      <td>2021-12-05</td>\n",
       "      <td>Skylit Midtown Castle</td>\n",
       "      <td>Beautiful, spacious skylit studio in the heart...</td>\n",
       "      <td>Centrally located in the heart of Manhattan ju...</td>\n",
       "      <td>2845</td>\n",
       "      <td>Jennifer</td>\n",
       "      <td>2008-09-09</td>\n",
       "      <td>New York, New York, United States</td>\n",
       "      <td>...</td>\n",
       "      <td>4.86</td>\n",
       "      <td>4.41</td>\n",
       "      <td>NaN</td>\n",
       "      <td>f</td>\n",
       "      <td>3</td>\n",
       "      <td>3</td>\n",
       "      <td>0</td>\n",
       "      <td>0</td>\n",
       "      <td>0.33</td>\n",
       "      <td>150.0</td>\n",
       "    </tr>\n",
       "    <tr>\n",
       "      <th>1</th>\n",
       "      <td>3831</td>\n",
       "      <td>20211204143024</td>\n",
       "      <td>2021-12-05</td>\n",
       "      <td>Whole flr w/private bdrm, bath &amp; kitchen(pls r...</td>\n",
       "      <td>Enjoy 500 s.f. top floor in 1899 brownstone, w...</td>\n",
       "      <td>Just the right mix of urban center and local n...</td>\n",
       "      <td>4869</td>\n",
       "      <td>LisaRoxanne</td>\n",
       "      <td>2008-12-07</td>\n",
       "      <td>New York, New York, United States</td>\n",
       "      <td>...</td>\n",
       "      <td>4.71</td>\n",
       "      <td>4.64</td>\n",
       "      <td>NaN</td>\n",
       "      <td>f</td>\n",
       "      <td>1</td>\n",
       "      <td>1</td>\n",
       "      <td>0</td>\n",
       "      <td>0</td>\n",
       "      <td>4.86</td>\n",
       "      <td>75.0</td>\n",
       "    </tr>\n",
       "    <tr>\n",
       "      <th>2</th>\n",
       "      <td>5121</td>\n",
       "      <td>20211204143024</td>\n",
       "      <td>2021-12-05</td>\n",
       "      <td>BlissArtsSpace!</td>\n",
       "      <td>&lt;b&gt;The space&lt;/b&gt;&lt;br /&gt;HELLO EVERYONE AND THANK...</td>\n",
       "      <td>NaN</td>\n",
       "      <td>7356</td>\n",
       "      <td>Garon</td>\n",
       "      <td>2009-02-03</td>\n",
       "      <td>New York, New York, United States</td>\n",
       "      <td>...</td>\n",
       "      <td>4.47</td>\n",
       "      <td>4.52</td>\n",
       "      <td>NaN</td>\n",
       "      <td>f</td>\n",
       "      <td>2</td>\n",
       "      <td>0</td>\n",
       "      <td>2</td>\n",
       "      <td>0</td>\n",
       "      <td>0.52</td>\n",
       "      <td>60.0</td>\n",
       "    </tr>\n",
       "    <tr>\n",
       "      <th>3</th>\n",
       "      <td>5136</td>\n",
       "      <td>20211204143024</td>\n",
       "      <td>2021-12-05</td>\n",
       "      <td>Spacious Brooklyn Duplex, Patio + Garden</td>\n",
       "      <td>We welcome you to stay in our lovely 2 br dupl...</td>\n",
       "      <td>NaN</td>\n",
       "      <td>7378</td>\n",
       "      <td>Rebecca</td>\n",
       "      <td>2009-02-03</td>\n",
       "      <td>Brooklyn, New York, United States</td>\n",
       "      <td>...</td>\n",
       "      <td>4.50</td>\n",
       "      <td>5.00</td>\n",
       "      <td>NaN</td>\n",
       "      <td>f</td>\n",
       "      <td>1</td>\n",
       "      <td>1</td>\n",
       "      <td>0</td>\n",
       "      <td>0</td>\n",
       "      <td>0.02</td>\n",
       "      <td>275.0</td>\n",
       "    </tr>\n",
       "    <tr>\n",
       "      <th>4</th>\n",
       "      <td>5178</td>\n",
       "      <td>20211204143024</td>\n",
       "      <td>2021-12-05</td>\n",
       "      <td>Large Furnished Room Near B'way</td>\n",
       "      <td>Please don’t expect the luxury here just a bas...</td>\n",
       "      <td>Theater district, many restaurants around here.</td>\n",
       "      <td>8967</td>\n",
       "      <td>Shunichi</td>\n",
       "      <td>2009-03-03</td>\n",
       "      <td>New York, New York, United States</td>\n",
       "      <td>...</td>\n",
       "      <td>4.87</td>\n",
       "      <td>4.36</td>\n",
       "      <td>NaN</td>\n",
       "      <td>f</td>\n",
       "      <td>1</td>\n",
       "      <td>0</td>\n",
       "      <td>1</td>\n",
       "      <td>0</td>\n",
       "      <td>3.68</td>\n",
       "      <td>68.0</td>\n",
       "    </tr>\n",
       "  </tbody>\n",
       "</table>\n",
       "<p>5 rows × 70 columns</p>\n",
       "</div>"
      ],
      "text/plain": [
       "     id       scrape_id last_scraped  \\\n",
       "0  2595  20211204143024   2021-12-05   \n",
       "1  3831  20211204143024   2021-12-05   \n",
       "2  5121  20211204143024   2021-12-05   \n",
       "3  5136  20211204143024   2021-12-05   \n",
       "4  5178  20211204143024   2021-12-05   \n",
       "\n",
       "                                                name  \\\n",
       "0                              Skylit Midtown Castle   \n",
       "1  Whole flr w/private bdrm, bath & kitchen(pls r...   \n",
       "2                                    BlissArtsSpace!   \n",
       "3           Spacious Brooklyn Duplex, Patio + Garden   \n",
       "4                   Large Furnished Room Near B'way　   \n",
       "\n",
       "                                         description  \\\n",
       "0  Beautiful, spacious skylit studio in the heart...   \n",
       "1  Enjoy 500 s.f. top floor in 1899 brownstone, w...   \n",
       "2  <b>The space</b><br />HELLO EVERYONE AND THANK...   \n",
       "3  We welcome you to stay in our lovely 2 br dupl...   \n",
       "4  Please don’t expect the luxury here just a bas...   \n",
       "\n",
       "                               neighborhood_overview  host_id    host_name  \\\n",
       "0  Centrally located in the heart of Manhattan ju...     2845     Jennifer   \n",
       "1  Just the right mix of urban center and local n...     4869  LisaRoxanne   \n",
       "2                                                NaN     7356        Garon   \n",
       "3                                                NaN     7378      Rebecca   \n",
       "4    Theater district, many restaurants around here.     8967     Shunichi   \n",
       "\n",
       "   host_since                      host_location  ... review_scores_location  \\\n",
       "0  2008-09-09  New York, New York, United States  ...                   4.86   \n",
       "1  2008-12-07  New York, New York, United States  ...                   4.71   \n",
       "2  2009-02-03  New York, New York, United States  ...                   4.47   \n",
       "3  2009-02-03  Brooklyn, New York, United States  ...                   4.50   \n",
       "4  2009-03-03  New York, New York, United States  ...                   4.87   \n",
       "\n",
       "  review_scores_value license instant_bookable calculated_host_listings_count  \\\n",
       "0                4.41     NaN                f                              3   \n",
       "1                4.64     NaN                f                              1   \n",
       "2                4.52     NaN                f                              2   \n",
       "3                5.00     NaN                f                              1   \n",
       "4                4.36     NaN                f                              1   \n",
       "\n",
       "  calculated_host_listings_count_entire_homes  \\\n",
       "0                                           3   \n",
       "1                                           1   \n",
       "2                                           0   \n",
       "3                                           1   \n",
       "4                                           0   \n",
       "\n",
       "   calculated_host_listings_count_private_rooms  \\\n",
       "0                                             0   \n",
       "1                                             0   \n",
       "2                                             2   \n",
       "3                                             0   \n",
       "4                                             1   \n",
       "\n",
       "   calculated_host_listings_count_shared_rooms reviews_per_month label_price  \n",
       "0                                            0              0.33       150.0  \n",
       "1                                            0              4.86        75.0  \n",
       "2                                            0              0.52        60.0  \n",
       "3                                            0              0.02       275.0  \n",
       "4                                            0              3.68        68.0  \n",
       "\n",
       "[5 rows x 70 columns]"
      ]
     },
     "execution_count": 74,
     "metadata": {},
     "output_type": "execute_result"
    }
   ],
   "source": [
    "df.head()"
   ]
  },
  {
   "cell_type": "markdown",
   "metadata": {},
   "source": [
    "**Task**: Check that the values of `price` and `label_price` are *not* identical. \n",
    "\n",
    "You will do this by subtracting the two columns and finding the resulting *unique values*  of the resulting difference. <br>Note: If all values are identical, the difference would not contain unique values. If this is the case, outlier removal did not work."
   ]
  },
  {
   "cell_type": "code",
   "execution_count": 75,
   "metadata": {},
   "outputs": [
    {
     "name": "stdout",
     "output_type": "stream",
     "text": [
      "[ 0.000e+00  1.500e+03  3.000e+02  1.000e+03  1.979e+03 -1.000e+00\n",
      "  8.990e+02  2.000e+02  9.990e+02  5.000e+02 -8.000e+00  5.000e+03\n",
      "  4.250e+03  5.500e+02  2.500e+02  5.500e+03  1.750e+03  2.750e+03\n",
      "  6.000e+02 -1.100e+01  1.249e+03  4.330e+02  5.700e+01  3.930e+02\n",
      " -4.000e+00  4.000e+02  1.695e+03  8.990e+03  2.140e+02 -1.400e+01\n",
      "  8.999e+03  7.630e+02 -2.000e+00 -9.000e+00  2.430e+02  1.000e+02\n",
      "  6.400e+01  2.974e+03  7.700e+01 -3.000e+00 -7.000e+00  3.500e+02\n",
      "  2.450e+02  8.100e+01  5.710e+02  6.314e+03 -5.000e+00 -1.000e+01\n",
      "  2.000e+00  9.900e+01  1.200e+03  4.300e+02  1.100e+03  8.500e+01\n",
      "  4.000e+03  9.000e+03  1.350e+03  5.000e+01  2.000e+03  1.299e+03\n",
      "  1.430e+02  1.499e+03  3.700e+02 -1.900e+01  6.184e+03 -1.300e+01\n",
      "  2.210e+02  1.857e+03 -1.500e+01  9.000e+02  7.500e+01 -6.000e+00\n",
      "  6.430e+02  3.929e+03  2.910e+02  3.990e+02  8.000e+03  5.429e+03\n",
      "  3.000e+03 -1.800e+01  5.143e+03  1.400e+03  4.750e+02  2.214e+03\n",
      "  1.910e+02  4.250e+02  1.250e+02  3.330e+02  4.990e+02  8.000e+02\n",
      "  2.250e+02  2.500e+03  8.190e+02  6.000e+03  3.030e+02  3.070e+02\n",
      "  1.640e+02  3.420e+02  5.600e+01  2.600e+03  2.200e+03  5.700e+02\n",
      "  1.642e+03  7.000e+00  9.810e+02  2.120e+02  1.850e+03  4.500e+01\n",
      "  4.510e+02  5.120e+02  2.360e+02  6.200e+01  1.020e+02  2.590e+02\n",
      "  7.500e+02  9.750e+02  5.290e+02  2.960e+02  9.500e+02  1.600e+03\n",
      "  2.750e+02  4.640e+02  2.570e+02 -2.900e+01 -1.700e+01  9.500e+01\n",
      "  2.850e+02  3.382e+03  1.839e+03  1.261e+03  2.900e+01  2.260e+02\n",
      "  1.130e+02  9.000e+00  2.160e+02  1.160e+02 -1.200e+01  4.950e+02\n",
      "  2.500e+01  2.860e+02  2.557e+03  1.614e+03  7.100e+01  5.400e+01\n",
      "  5.750e+02  1.700e+03  2.400e+01  1.700e+01  1.140e+02  2.900e+02\n",
      "  2.990e+02  9.950e+02  1.760e+02  8.300e+02  2.520e+03  8.650e+02\n",
      "  6.700e+01  1.797e+03  2.729e+03  7.600e+02  1.640e+03  6.860e+02\n",
      "  2.490e+02  3.730e+02  5.500e+01  7.420e+02  2.920e+02  1.436e+03\n",
      "  3.860e+02  3.570e+02  4.740e+02  2.333e+03  1.100e+01  1.400e+01\n",
      "  3.143e+03  4.500e+02  8.300e+01  1.990e+02  8.560e+02  1.370e+02\n",
      "  7.600e+01  1.290e+02  6.540e+02  3.400e+01  3.690e+02  8.170e+02\n",
      "  4.790e+02  8.970e+02  3.140e+02  3.320e+02  2.820e+02  1.090e+02\n",
      "  1.260e+02  1.490e+02  2.110e+02  1.232e+03  3.464e+03  2.119e+03\n",
      "  3.310e+02  5.650e+02  1.071e+03  2.855e+03  1.050e+03  1.157e+03\n",
      "  4.655e+03  9.800e+02]\n"
     ]
    }
   ],
   "source": [
    "difference = df['price'] - df['label_price']\n",
    "unique_differences = difference.unique()\n",
    "print(unique_differences)"
   ]
  },
  {
   "cell_type": "markdown",
   "metadata": {},
   "source": [
    "### b. Handle Missing Data\n",
    "\n",
    "Next we are going to find missing values in our entire dataset and impute the missing values by\n",
    "replace them with means."
   ]
  },
  {
   "cell_type": "markdown",
   "metadata": {},
   "source": [
    "#### Identifying missingness"
   ]
  },
  {
   "cell_type": "markdown",
   "metadata": {},
   "source": [
    "**Task**: Check if a given value in the data is missing, and sum up the resulting values by columns. Save this sum to variable `nan_count`. Print the results."
   ]
  },
  {
   "cell_type": "code",
   "execution_count": 76,
   "metadata": {},
   "outputs": [
    {
     "data": {
      "text/plain": [
       "id                                                 0\n",
       "scrape_id                                          0\n",
       "last_scraped                                       0\n",
       "name                                              13\n",
       "description                                     1192\n",
       "                                                ... \n",
       "calculated_host_listings_count_entire_homes        0\n",
       "calculated_host_listings_count_private_rooms       0\n",
       "calculated_host_listings_count_shared_rooms        0\n",
       "reviews_per_month                               9504\n",
       "label_price                                        0\n",
       "Length: 70, dtype: int64"
      ]
     },
     "execution_count": 76,
     "metadata": {},
     "output_type": "execute_result"
    }
   ],
   "source": [
    "nan_count = df.isnull().sum()\n",
    "nan_count"
   ]
  },
  {
   "cell_type": "markdown",
   "metadata": {},
   "source": [
    "Those are more columns than we can eyeball! For this exercise, we don't care about the number of missing values -- we just want to get a list of columns that have *any* missing values.\n",
    "\n",
    "<b>Task</b>: From the variable `nan_count`, create a new series called `nan_detected` that contains `True` or `False` values that indicate whether the number of missing values is *not zero*:"
   ]
  },
  {
   "cell_type": "code",
   "execution_count": 77,
   "metadata": {},
   "outputs": [
    {
     "data": {
      "text/plain": [
       "id                                              False\n",
       "scrape_id                                       False\n",
       "last_scraped                                    False\n",
       "name                                             True\n",
       "description                                      True\n",
       "                                                ...  \n",
       "calculated_host_listings_count_entire_homes     False\n",
       "calculated_host_listings_count_private_rooms    False\n",
       "calculated_host_listings_count_shared_rooms     False\n",
       "reviews_per_month                                True\n",
       "label_price                                     False\n",
       "Length: 70, dtype: bool"
      ]
     },
     "execution_count": 77,
     "metadata": {},
     "output_type": "execute_result"
    }
   ],
   "source": [
    "nan_detected = nan_count != 0\n",
    "nan_detected"
   ]
  },
  {
   "cell_type": "markdown",
   "metadata": {},
   "source": [
    "Since replacing the missing values with the mean only makes sense for the columns that contain numerical values (and not for strings), let us create another condition: the *type* of the column must be `int` or `float`."
   ]
  },
  {
   "cell_type": "markdown",
   "metadata": {},
   "source": [
    "**Task**: Create a series that contains `True` if the type of the column is either `int64` or `float64`. Save the results to the variable `is_int_or_float`."
   ]
  },
  {
   "cell_type": "code",
   "execution_count": 78,
   "metadata": {},
   "outputs": [
    {
     "data": {
      "text/plain": [
       "id                                               True\n",
       "scrape_id                                        True\n",
       "last_scraped                                    False\n",
       "name                                            False\n",
       "description                                     False\n",
       "                                                ...  \n",
       "calculated_host_listings_count_entire_homes      True\n",
       "calculated_host_listings_count_private_rooms     True\n",
       "calculated_host_listings_count_shared_rooms      True\n",
       "reviews_per_month                                True\n",
       "label_price                                      True\n",
       "Length: 70, dtype: bool"
      ]
     },
     "execution_count": 78,
     "metadata": {},
     "output_type": "execute_result"
    }
   ],
   "source": [
    "is_int_or_float = df.dtypes.isin(['int64', 'float64'])\n",
    "is_int_or_float"
   ]
  },
  {
   "cell_type": "markdown",
   "metadata": {},
   "source": [
    "<b>Task</b>: Combine the two binary series (`nan_detected` and `is_int_or_float`) into a new series named `to_impute`. It will contain the value `True` if a column contains missing values *and* is of type 'int' or 'float'"
   ]
  },
  {
   "cell_type": "code",
   "execution_count": 79,
   "metadata": {},
   "outputs": [
    {
     "data": {
      "text/plain": [
       "id                                              False\n",
       "scrape_id                                       False\n",
       "last_scraped                                    False\n",
       "name                                            False\n",
       "description                                     False\n",
       "                                                ...  \n",
       "calculated_host_listings_count_entire_homes     False\n",
       "calculated_host_listings_count_private_rooms    False\n",
       "calculated_host_listings_count_shared_rooms     False\n",
       "reviews_per_month                                True\n",
       "label_price                                     False\n",
       "Length: 70, dtype: bool"
      ]
     },
     "execution_count": 79,
     "metadata": {},
     "output_type": "execute_result"
    }
   ],
   "source": [
    "to_impute = nan_detected & is_int_or_float\n",
    "to_impute"
   ]
  },
  {
   "cell_type": "markdown",
   "metadata": {},
   "source": [
    "Finally, let's display a list that contains just the selected column names contained in `to_impute`:"
   ]
  },
  {
   "cell_type": "code",
   "execution_count": 80,
   "metadata": {},
   "outputs": [
    {
     "data": {
      "text/plain": [
       "Index(['host_listings_count', 'host_total_listings_count', 'bathrooms',\n",
       "       'bedrooms', 'beds', 'minimum_minimum_nights', 'maximum_minimum_nights',\n",
       "       'minimum_maximum_nights', 'maximum_maximum_nights',\n",
       "       'minimum_nights_avg_ntm', 'maximum_nights_avg_ntm', 'calendar_updated',\n",
       "       'review_scores_rating', 'review_scores_accuracy',\n",
       "       'review_scores_cleanliness', 'review_scores_checkin',\n",
       "       'review_scores_communication', 'review_scores_location',\n",
       "       'review_scores_value', 'reviews_per_month'],\n",
       "      dtype='object')"
      ]
     },
     "execution_count": 80,
     "metadata": {},
     "output_type": "execute_result"
    }
   ],
   "source": [
    "df.columns[to_impute]"
   ]
  },
  {
   "cell_type": "markdown",
   "metadata": {},
   "source": [
    "We just identified and displayed the list of candidate columns for potentially replacing missing values with the column mean."
   ]
  },
  {
   "cell_type": "markdown",
   "metadata": {},
   "source": [
    "Assume that you have decided that you should impute the values for these specific columns: `host_listings_count`, `host_total_listings_count`, `bathrooms`, `bedrooms`, and `beds`:"
   ]
  },
  {
   "cell_type": "code",
   "execution_count": 81,
   "metadata": {},
   "outputs": [],
   "source": [
    "to_impute_selected = ['host_listings_count', 'host_total_listings_count', 'bathrooms',\n",
    "       'bedrooms', 'beds']"
   ]
  },
  {
   "cell_type": "markdown",
   "metadata": {},
   "source": [
    "#### Keeping record of the missingness: creating dummy variables "
   ]
  },
  {
   "cell_type": "markdown",
   "metadata": {},
   "source": [
    "As a first step, you will now create dummy variables indicating the missingness of the values."
   ]
  },
  {
   "cell_type": "markdown",
   "metadata": {},
   "source": [
    "**Task**: For every column listed in `to_impute_selected`, create a new corresponding column called `<original-column-name>_na`. These columns should contain the a `True`or `False` value in place of `NaN`."
   ]
  },
  {
   "cell_type": "code",
   "execution_count": 82,
   "metadata": {},
   "outputs": [],
   "source": [
    "to_impute_selected = to_impute[to_impute].index.tolist()\n",
    "\n",
    "for col in to_impute_selected:\n",
    "    df[f\"{col}_na\"] = df[col].isna()"
   ]
  },
  {
   "cell_type": "markdown",
   "metadata": {},
   "source": [
    "Check that the DataFrame contains the new variables:"
   ]
  },
  {
   "cell_type": "code",
   "execution_count": 83,
   "metadata": {},
   "outputs": [
    {
     "data": {
      "text/html": [
       "<div>\n",
       "<style scoped>\n",
       "    .dataframe tbody tr th:only-of-type {\n",
       "        vertical-align: middle;\n",
       "    }\n",
       "\n",
       "    .dataframe tbody tr th {\n",
       "        vertical-align: top;\n",
       "    }\n",
       "\n",
       "    .dataframe thead th {\n",
       "        text-align: right;\n",
       "    }\n",
       "</style>\n",
       "<table border=\"1\" class=\"dataframe\">\n",
       "  <thead>\n",
       "    <tr style=\"text-align: right;\">\n",
       "      <th></th>\n",
       "      <th>id</th>\n",
       "      <th>scrape_id</th>\n",
       "      <th>last_scraped</th>\n",
       "      <th>name</th>\n",
       "      <th>description</th>\n",
       "      <th>neighborhood_overview</th>\n",
       "      <th>host_id</th>\n",
       "      <th>host_name</th>\n",
       "      <th>host_since</th>\n",
       "      <th>host_location</th>\n",
       "      <th>...</th>\n",
       "      <th>maximum_nights_avg_ntm_na</th>\n",
       "      <th>calendar_updated_na</th>\n",
       "      <th>review_scores_rating_na</th>\n",
       "      <th>review_scores_accuracy_na</th>\n",
       "      <th>review_scores_cleanliness_na</th>\n",
       "      <th>review_scores_checkin_na</th>\n",
       "      <th>review_scores_communication_na</th>\n",
       "      <th>review_scores_location_na</th>\n",
       "      <th>review_scores_value_na</th>\n",
       "      <th>reviews_per_month_na</th>\n",
       "    </tr>\n",
       "  </thead>\n",
       "  <tbody>\n",
       "    <tr>\n",
       "      <th>0</th>\n",
       "      <td>2595</td>\n",
       "      <td>20211204143024</td>\n",
       "      <td>2021-12-05</td>\n",
       "      <td>Skylit Midtown Castle</td>\n",
       "      <td>Beautiful, spacious skylit studio in the heart...</td>\n",
       "      <td>Centrally located in the heart of Manhattan ju...</td>\n",
       "      <td>2845</td>\n",
       "      <td>Jennifer</td>\n",
       "      <td>2008-09-09</td>\n",
       "      <td>New York, New York, United States</td>\n",
       "      <td>...</td>\n",
       "      <td>False</td>\n",
       "      <td>True</td>\n",
       "      <td>False</td>\n",
       "      <td>False</td>\n",
       "      <td>False</td>\n",
       "      <td>False</td>\n",
       "      <td>False</td>\n",
       "      <td>False</td>\n",
       "      <td>False</td>\n",
       "      <td>False</td>\n",
       "    </tr>\n",
       "    <tr>\n",
       "      <th>1</th>\n",
       "      <td>3831</td>\n",
       "      <td>20211204143024</td>\n",
       "      <td>2021-12-05</td>\n",
       "      <td>Whole flr w/private bdrm, bath &amp; kitchen(pls r...</td>\n",
       "      <td>Enjoy 500 s.f. top floor in 1899 brownstone, w...</td>\n",
       "      <td>Just the right mix of urban center and local n...</td>\n",
       "      <td>4869</td>\n",
       "      <td>LisaRoxanne</td>\n",
       "      <td>2008-12-07</td>\n",
       "      <td>New York, New York, United States</td>\n",
       "      <td>...</td>\n",
       "      <td>False</td>\n",
       "      <td>True</td>\n",
       "      <td>False</td>\n",
       "      <td>False</td>\n",
       "      <td>False</td>\n",
       "      <td>False</td>\n",
       "      <td>False</td>\n",
       "      <td>False</td>\n",
       "      <td>False</td>\n",
       "      <td>False</td>\n",
       "    </tr>\n",
       "    <tr>\n",
       "      <th>2</th>\n",
       "      <td>5121</td>\n",
       "      <td>20211204143024</td>\n",
       "      <td>2021-12-05</td>\n",
       "      <td>BlissArtsSpace!</td>\n",
       "      <td>&lt;b&gt;The space&lt;/b&gt;&lt;br /&gt;HELLO EVERYONE AND THANK...</td>\n",
       "      <td>NaN</td>\n",
       "      <td>7356</td>\n",
       "      <td>Garon</td>\n",
       "      <td>2009-02-03</td>\n",
       "      <td>New York, New York, United States</td>\n",
       "      <td>...</td>\n",
       "      <td>False</td>\n",
       "      <td>True</td>\n",
       "      <td>False</td>\n",
       "      <td>False</td>\n",
       "      <td>False</td>\n",
       "      <td>False</td>\n",
       "      <td>False</td>\n",
       "      <td>False</td>\n",
       "      <td>False</td>\n",
       "      <td>False</td>\n",
       "    </tr>\n",
       "    <tr>\n",
       "      <th>3</th>\n",
       "      <td>5136</td>\n",
       "      <td>20211204143024</td>\n",
       "      <td>2021-12-05</td>\n",
       "      <td>Spacious Brooklyn Duplex, Patio + Garden</td>\n",
       "      <td>We welcome you to stay in our lovely 2 br dupl...</td>\n",
       "      <td>NaN</td>\n",
       "      <td>7378</td>\n",
       "      <td>Rebecca</td>\n",
       "      <td>2009-02-03</td>\n",
       "      <td>Brooklyn, New York, United States</td>\n",
       "      <td>...</td>\n",
       "      <td>False</td>\n",
       "      <td>True</td>\n",
       "      <td>False</td>\n",
       "      <td>False</td>\n",
       "      <td>False</td>\n",
       "      <td>False</td>\n",
       "      <td>False</td>\n",
       "      <td>False</td>\n",
       "      <td>False</td>\n",
       "      <td>False</td>\n",
       "    </tr>\n",
       "    <tr>\n",
       "      <th>4</th>\n",
       "      <td>5178</td>\n",
       "      <td>20211204143024</td>\n",
       "      <td>2021-12-05</td>\n",
       "      <td>Large Furnished Room Near B'way</td>\n",
       "      <td>Please don’t expect the luxury here just a bas...</td>\n",
       "      <td>Theater district, many restaurants around here.</td>\n",
       "      <td>8967</td>\n",
       "      <td>Shunichi</td>\n",
       "      <td>2009-03-03</td>\n",
       "      <td>New York, New York, United States</td>\n",
       "      <td>...</td>\n",
       "      <td>False</td>\n",
       "      <td>True</td>\n",
       "      <td>False</td>\n",
       "      <td>False</td>\n",
       "      <td>False</td>\n",
       "      <td>False</td>\n",
       "      <td>False</td>\n",
       "      <td>False</td>\n",
       "      <td>False</td>\n",
       "      <td>False</td>\n",
       "    </tr>\n",
       "  </tbody>\n",
       "</table>\n",
       "<p>5 rows × 90 columns</p>\n",
       "</div>"
      ],
      "text/plain": [
       "     id       scrape_id last_scraped  \\\n",
       "0  2595  20211204143024   2021-12-05   \n",
       "1  3831  20211204143024   2021-12-05   \n",
       "2  5121  20211204143024   2021-12-05   \n",
       "3  5136  20211204143024   2021-12-05   \n",
       "4  5178  20211204143024   2021-12-05   \n",
       "\n",
       "                                                name  \\\n",
       "0                              Skylit Midtown Castle   \n",
       "1  Whole flr w/private bdrm, bath & kitchen(pls r...   \n",
       "2                                    BlissArtsSpace!   \n",
       "3           Spacious Brooklyn Duplex, Patio + Garden   \n",
       "4                   Large Furnished Room Near B'way　   \n",
       "\n",
       "                                         description  \\\n",
       "0  Beautiful, spacious skylit studio in the heart...   \n",
       "1  Enjoy 500 s.f. top floor in 1899 brownstone, w...   \n",
       "2  <b>The space</b><br />HELLO EVERYONE AND THANK...   \n",
       "3  We welcome you to stay in our lovely 2 br dupl...   \n",
       "4  Please don’t expect the luxury here just a bas...   \n",
       "\n",
       "                               neighborhood_overview  host_id    host_name  \\\n",
       "0  Centrally located in the heart of Manhattan ju...     2845     Jennifer   \n",
       "1  Just the right mix of urban center and local n...     4869  LisaRoxanne   \n",
       "2                                                NaN     7356        Garon   \n",
       "3                                                NaN     7378      Rebecca   \n",
       "4    Theater district, many restaurants around here.     8967     Shunichi   \n",
       "\n",
       "   host_since                      host_location  ...  \\\n",
       "0  2008-09-09  New York, New York, United States  ...   \n",
       "1  2008-12-07  New York, New York, United States  ...   \n",
       "2  2009-02-03  New York, New York, United States  ...   \n",
       "3  2009-02-03  Brooklyn, New York, United States  ...   \n",
       "4  2009-03-03  New York, New York, United States  ...   \n",
       "\n",
       "  maximum_nights_avg_ntm_na calendar_updated_na review_scores_rating_na  \\\n",
       "0                     False                True                   False   \n",
       "1                     False                True                   False   \n",
       "2                     False                True                   False   \n",
       "3                     False                True                   False   \n",
       "4                     False                True                   False   \n",
       "\n",
       "  review_scores_accuracy_na review_scores_cleanliness_na  \\\n",
       "0                     False                        False   \n",
       "1                     False                        False   \n",
       "2                     False                        False   \n",
       "3                     False                        False   \n",
       "4                     False                        False   \n",
       "\n",
       "  review_scores_checkin_na  review_scores_communication_na  \\\n",
       "0                    False                           False   \n",
       "1                    False                           False   \n",
       "2                    False                           False   \n",
       "3                    False                           False   \n",
       "4                    False                           False   \n",
       "\n",
       "   review_scores_location_na review_scores_value_na reviews_per_month_na  \n",
       "0                      False                  False                False  \n",
       "1                      False                  False                False  \n",
       "2                      False                  False                False  \n",
       "3                      False                  False                False  \n",
       "4                      False                  False                False  \n",
       "\n",
       "[5 rows x 90 columns]"
      ]
     },
     "execution_count": 83,
     "metadata": {},
     "output_type": "execute_result"
    }
   ],
   "source": [
    "df.head()"
   ]
  },
  {
   "cell_type": "markdown",
   "metadata": {},
   "source": [
    "#### Replacing the missing values with mean values of the column"
   ]
  },
  {
   "cell_type": "markdown",
   "metadata": {},
   "source": [
    "**Task**: For every column listed in `to_impute_selected`, fill the missing values with the corresponding mean of all values in the column (do not create new columns)."
   ]
  },
  {
   "cell_type": "code",
   "execution_count": 84,
   "metadata": {},
   "outputs": [],
   "source": [
    "for col in to_impute_selected:\n",
    "    mean_value = df[col].mean()\n",
    "    df[col].fillna(mean_value, inplace=True)"
   ]
  },
  {
   "cell_type": "markdown",
   "metadata": {},
   "source": [
    "Check your results below. The code displays the count of missing values for each of the selected columns. "
   ]
  },
  {
   "cell_type": "code",
   "execution_count": 85,
   "metadata": {},
   "outputs": [
    {
     "name": "stdout",
     "output_type": "stream",
     "text": [
      "host_listings_count missing values count :0\n",
      "host_total_listings_count missing values count :0\n",
      "bathrooms missing values count :38277\n",
      "bedrooms missing values count :0\n",
      "beds missing values count :0\n",
      "minimum_minimum_nights missing values count :0\n",
      "maximum_minimum_nights missing values count :0\n",
      "minimum_maximum_nights missing values count :0\n",
      "maximum_maximum_nights missing values count :0\n",
      "minimum_nights_avg_ntm missing values count :0\n",
      "maximum_nights_avg_ntm missing values count :0\n",
      "calendar_updated missing values count :38277\n",
      "review_scores_rating missing values count :0\n",
      "review_scores_accuracy missing values count :0\n",
      "review_scores_cleanliness missing values count :0\n",
      "review_scores_checkin missing values count :0\n",
      "review_scores_communication missing values count :0\n",
      "review_scores_location missing values count :0\n",
      "review_scores_value missing values count :0\n",
      "reviews_per_month missing values count :0\n"
     ]
    }
   ],
   "source": [
    "for colname in to_impute_selected:\n",
    "    print(\"{} missing values count :{}\".format(colname, np.sum(df[colname].isnull(), axis = 0)))"
   ]
  },
  {
   "cell_type": "markdown",
   "metadata": {},
   "source": [
    "Why did the `bathrooms` column retain missing values after our imputation?"
   ]
  },
  {
   "cell_type": "markdown",
   "metadata": {},
   "source": [
    "**Task**: List the unique values of the `bathrooms` column."
   ]
  },
  {
   "cell_type": "code",
   "execution_count": 86,
   "metadata": {},
   "outputs": [
    {
     "data": {
      "text/plain": [
       "array([nan])"
      ]
     },
     "execution_count": 86,
     "metadata": {},
     "output_type": "execute_result"
    }
   ],
   "source": [
    "df['bathrooms'].unique()"
   ]
  },
  {
   "cell_type": "markdown",
   "metadata": {},
   "source": [
    "The column did not contain a single value (except the `NaN` indicator) to begin with."
   ]
  },
  {
   "cell_type": "markdown",
   "metadata": {},
   "source": [
    "## Part 3. Perform One-Hot Encoding"
   ]
  },
  {
   "cell_type": "markdown",
   "metadata": {},
   "source": [
    "Machine learning algorithms operate on numerical inputs. Therefore, we have to transform text data into some form of numerical representation to prepare our data for the model training phase. Some features that contain text data are categorical. Others are not. For example, we removed all of the features that contained URLs. These features were not categorical, but rather contained what is called unstructured text. However, not all features that contain unstructured text should be removed, as they can contain useful information for our machine learning problem. Unstructured text data is usually handled by Natural Language Processing (NLP) techniques. You will learn more about NLP later in this course. \n",
    "\n",
    "However, for features that contain categorical values, one-hot encoding is a common feature engineering technique that transforms them into binary representations. "
   ]
  },
  {
   "cell_type": "markdown",
   "metadata": {},
   "source": [
    "We will first choose one feature column to one-hot encode: `host_response_time`. Let's inspect the unique values this feature can have. "
   ]
  },
  {
   "cell_type": "code",
   "execution_count": 87,
   "metadata": {},
   "outputs": [
    {
     "data": {
      "text/plain": [
       "array(['within a day', 'a few days or more', 'within an hour', nan,\n",
       "       'within a few hours'], dtype=object)"
      ]
     },
     "execution_count": 87,
     "metadata": {},
     "output_type": "execute_result"
    }
   ],
   "source": [
    "df['host_response_time'].unique()"
   ]
  },
  {
   "cell_type": "markdown",
   "metadata": {},
   "source": [
    "Note that each entry can contain one of five possible values. \n",
    "\n",
    "**Task**: Since one of these values is `NaN`, replace every entry in the column `host_response_time` that contains a `NaN` value with the string 'unavailable'."
   ]
  },
  {
   "cell_type": "code",
   "execution_count": 88,
   "metadata": {},
   "outputs": [],
   "source": [
    "df['host_response_time'].fillna('unavailable', inplace=True)"
   ]
  },
  {
   "cell_type": "markdown",
   "metadata": {},
   "source": [
    "Let's inspect the `host_response_time` column to see the new values."
   ]
  },
  {
   "cell_type": "code",
   "execution_count": 89,
   "metadata": {},
   "outputs": [
    {
     "data": {
      "text/plain": [
       "array(['within a day', 'a few days or more', 'within an hour',\n",
       "       'unavailable', 'within a few hours'], dtype=object)"
      ]
     },
     "execution_count": 89,
     "metadata": {},
     "output_type": "execute_result"
    }
   ],
   "source": [
    "df['host_response_time'].unique()"
   ]
  },
  {
   "cell_type": "markdown",
   "metadata": {},
   "source": [
    "**Task**: Use `pd.get_dummies()` to one-hot encode the `host_response_time` column. Save the result to DataFrame `df_host_response_time`. "
   ]
  },
  {
   "cell_type": "code",
   "execution_count": 90,
   "metadata": {},
   "outputs": [
    {
     "data": {
      "text/html": [
       "<div>\n",
       "<style scoped>\n",
       "    .dataframe tbody tr th:only-of-type {\n",
       "        vertical-align: middle;\n",
       "    }\n",
       "\n",
       "    .dataframe tbody tr th {\n",
       "        vertical-align: top;\n",
       "    }\n",
       "\n",
       "    .dataframe thead th {\n",
       "        text-align: right;\n",
       "    }\n",
       "</style>\n",
       "<table border=\"1\" class=\"dataframe\">\n",
       "  <thead>\n",
       "    <tr style=\"text-align: right;\">\n",
       "      <th></th>\n",
       "      <th>host_response_time_a few days or more</th>\n",
       "      <th>host_response_time_unavailable</th>\n",
       "      <th>host_response_time_within a day</th>\n",
       "      <th>host_response_time_within a few hours</th>\n",
       "      <th>host_response_time_within an hour</th>\n",
       "    </tr>\n",
       "  </thead>\n",
       "  <tbody>\n",
       "    <tr>\n",
       "      <th>0</th>\n",
       "      <td>0</td>\n",
       "      <td>0</td>\n",
       "      <td>1</td>\n",
       "      <td>0</td>\n",
       "      <td>0</td>\n",
       "    </tr>\n",
       "    <tr>\n",
       "      <th>1</th>\n",
       "      <td>1</td>\n",
       "      <td>0</td>\n",
       "      <td>0</td>\n",
       "      <td>0</td>\n",
       "      <td>0</td>\n",
       "    </tr>\n",
       "    <tr>\n",
       "      <th>2</th>\n",
       "      <td>0</td>\n",
       "      <td>0</td>\n",
       "      <td>0</td>\n",
       "      <td>0</td>\n",
       "      <td>1</td>\n",
       "    </tr>\n",
       "    <tr>\n",
       "      <th>3</th>\n",
       "      <td>0</td>\n",
       "      <td>0</td>\n",
       "      <td>1</td>\n",
       "      <td>0</td>\n",
       "      <td>0</td>\n",
       "    </tr>\n",
       "    <tr>\n",
       "      <th>4</th>\n",
       "      <td>0</td>\n",
       "      <td>0</td>\n",
       "      <td>1</td>\n",
       "      <td>0</td>\n",
       "      <td>0</td>\n",
       "    </tr>\n",
       "    <tr>\n",
       "      <th>...</th>\n",
       "      <td>...</td>\n",
       "      <td>...</td>\n",
       "      <td>...</td>\n",
       "      <td>...</td>\n",
       "      <td>...</td>\n",
       "    </tr>\n",
       "    <tr>\n",
       "      <th>38272</th>\n",
       "      <td>0</td>\n",
       "      <td>0</td>\n",
       "      <td>0</td>\n",
       "      <td>1</td>\n",
       "      <td>0</td>\n",
       "    </tr>\n",
       "    <tr>\n",
       "      <th>38273</th>\n",
       "      <td>0</td>\n",
       "      <td>0</td>\n",
       "      <td>0</td>\n",
       "      <td>1</td>\n",
       "      <td>0</td>\n",
       "    </tr>\n",
       "    <tr>\n",
       "      <th>38274</th>\n",
       "      <td>0</td>\n",
       "      <td>0</td>\n",
       "      <td>0</td>\n",
       "      <td>0</td>\n",
       "      <td>1</td>\n",
       "    </tr>\n",
       "    <tr>\n",
       "      <th>38275</th>\n",
       "      <td>0</td>\n",
       "      <td>0</td>\n",
       "      <td>0</td>\n",
       "      <td>0</td>\n",
       "      <td>1</td>\n",
       "    </tr>\n",
       "    <tr>\n",
       "      <th>38276</th>\n",
       "      <td>0</td>\n",
       "      <td>0</td>\n",
       "      <td>0</td>\n",
       "      <td>0</td>\n",
       "      <td>1</td>\n",
       "    </tr>\n",
       "  </tbody>\n",
       "</table>\n",
       "<p>38277 rows × 5 columns</p>\n",
       "</div>"
      ],
      "text/plain": [
       "       host_response_time_a few days or more  host_response_time_unavailable  \\\n",
       "0                                          0                               0   \n",
       "1                                          1                               0   \n",
       "2                                          0                               0   \n",
       "3                                          0                               0   \n",
       "4                                          0                               0   \n",
       "...                                      ...                             ...   \n",
       "38272                                      0                               0   \n",
       "38273                                      0                               0   \n",
       "38274                                      0                               0   \n",
       "38275                                      0                               0   \n",
       "38276                                      0                               0   \n",
       "\n",
       "       host_response_time_within a day  host_response_time_within a few hours  \\\n",
       "0                                    1                                      0   \n",
       "1                                    0                                      0   \n",
       "2                                    0                                      0   \n",
       "3                                    1                                      0   \n",
       "4                                    1                                      0   \n",
       "...                                ...                                    ...   \n",
       "38272                                0                                      1   \n",
       "38273                                0                                      1   \n",
       "38274                                0                                      0   \n",
       "38275                                0                                      0   \n",
       "38276                                0                                      0   \n",
       "\n",
       "       host_response_time_within an hour  \n",
       "0                                      0  \n",
       "1                                      0  \n",
       "2                                      1  \n",
       "3                                      0  \n",
       "4                                      0  \n",
       "...                                  ...  \n",
       "38272                                  0  \n",
       "38273                                  0  \n",
       "38274                                  1  \n",
       "38275                                  1  \n",
       "38276                                  1  \n",
       "\n",
       "[38277 rows x 5 columns]"
      ]
     },
     "execution_count": 90,
     "metadata": {},
     "output_type": "execute_result"
    }
   ],
   "source": [
    "df_host_response_time = pd.get_dummies(df['host_response_time'], prefix='host_response_time')\n",
    "df_host_response_time"
   ]
  },
  {
   "cell_type": "markdown",
   "metadata": {},
   "source": [
    "**Task**: Since the `pd.get_dummies()` function returned a new DataFrame rather than making the changes to the original DataFrame `df`, add the new DataFrame `df_host_response_time` to DataFrame `df`, and delete the original `host_response_time` column from DataFrame `df`.\n"
   ]
  },
  {
   "cell_type": "code",
   "execution_count": 91,
   "metadata": {},
   "outputs": [],
   "source": [
    "df = pd.concat([df, df_host_response_time], axis=1)\n",
    "df.drop(columns=['host_response_time'], inplace=True)"
   ]
  },
  {
   "cell_type": "markdown",
   "metadata": {},
   "source": [
    "Let's inspect DataFrame `df` to see the changes that have been made."
   ]
  },
  {
   "cell_type": "code",
   "execution_count": 92,
   "metadata": {},
   "outputs": [
    {
     "data": {
      "text/plain": [
       "Index(['id', 'scrape_id', 'last_scraped', 'name', 'description',\n",
       "       'neighborhood_overview', 'host_id', 'host_name', 'host_since',\n",
       "       'host_location', 'host_about', 'host_response_rate',\n",
       "       'host_acceptance_rate', 'host_is_superhost', 'host_neighbourhood',\n",
       "       'host_listings_count', 'host_total_listings_count',\n",
       "       'host_verifications', 'host_has_profile_pic', 'host_identity_verified',\n",
       "       'neighbourhood', 'neighbourhood_cleansed',\n",
       "       'neighbourhood_group_cleansed', 'latitude', 'longitude',\n",
       "       'property_type', 'room_type', 'accommodates', 'bathrooms',\n",
       "       'bathrooms_text', 'bedrooms', 'beds', 'amenities', 'price',\n",
       "       'minimum_nights', 'maximum_nights', 'minimum_minimum_nights',\n",
       "       'maximum_minimum_nights', 'minimum_maximum_nights',\n",
       "       'maximum_maximum_nights', 'minimum_nights_avg_ntm',\n",
       "       'maximum_nights_avg_ntm', 'calendar_updated', 'has_availability',\n",
       "       'availability_30', 'availability_60', 'availability_90',\n",
       "       'availability_365', 'calendar_last_scraped', 'number_of_reviews',\n",
       "       'number_of_reviews_ltm', 'number_of_reviews_l30d', 'first_review',\n",
       "       'last_review', 'review_scores_rating', 'review_scores_accuracy',\n",
       "       'review_scores_cleanliness', 'review_scores_checkin',\n",
       "       'review_scores_communication', 'review_scores_location',\n",
       "       'review_scores_value', 'license', 'instant_bookable',\n",
       "       'calculated_host_listings_count',\n",
       "       'calculated_host_listings_count_entire_homes',\n",
       "       'calculated_host_listings_count_private_rooms',\n",
       "       'calculated_host_listings_count_shared_rooms', 'reviews_per_month',\n",
       "       'label_price', 'host_listings_count_na', 'host_total_listings_count_na',\n",
       "       'bathrooms_na', 'bedrooms_na', 'beds_na', 'minimum_minimum_nights_na',\n",
       "       'maximum_minimum_nights_na', 'minimum_maximum_nights_na',\n",
       "       'maximum_maximum_nights_na', 'minimum_nights_avg_ntm_na',\n",
       "       'maximum_nights_avg_ntm_na', 'calendar_updated_na',\n",
       "       'review_scores_rating_na', 'review_scores_accuracy_na',\n",
       "       'review_scores_cleanliness_na', 'review_scores_checkin_na',\n",
       "       'review_scores_communication_na', 'review_scores_location_na',\n",
       "       'review_scores_value_na', 'reviews_per_month_na',\n",
       "       'host_response_time_a few days or more',\n",
       "       'host_response_time_unavailable', 'host_response_time_within a day',\n",
       "       'host_response_time_within a few hours',\n",
       "       'host_response_time_within an hour'],\n",
       "      dtype='object')"
      ]
     },
     "execution_count": 92,
     "metadata": {},
     "output_type": "execute_result"
    }
   ],
   "source": [
    "df.columns"
   ]
  },
  {
   "cell_type": "markdown",
   "metadata": {},
   "source": [
    "#### One-hot encode additional features\n",
    "\n",
    "**Task**: Use the code cell below to find columns that contain string values  (the 'object' data type) and inspect the *number* of unique values each column has."
   ]
  },
  {
   "cell_type": "code",
   "execution_count": 93,
   "metadata": {},
   "outputs": [
    {
     "data": {
      "text/plain": [
       "last_scraped                        2\n",
       "name                            36870\n",
       "description                     34133\n",
       "neighborhood_overview           18616\n",
       "host_name                        9123\n",
       "host_since                       4289\n",
       "host_location                    1747\n",
       "host_about                      14424\n",
       "host_response_rate                 88\n",
       "host_acceptance_rate              101\n",
       "host_is_superhost                   2\n",
       "host_neighbourhood                484\n",
       "host_verifications                526\n",
       "host_has_profile_pic                2\n",
       "host_identity_verified              2\n",
       "neighbourhood                     207\n",
       "neighbourhood_cleansed            222\n",
       "neighbourhood_group_cleansed        5\n",
       "property_type                      78\n",
       "room_type                           4\n",
       "bathrooms_text                     30\n",
       "amenities                       31740\n",
       "has_availability                    2\n",
       "calendar_last_scraped               2\n",
       "first_review                     3171\n",
       "last_review                      2560\n",
       "license                             1\n",
       "instant_bookable                    2\n",
       "dtype: int64"
      ]
     },
     "execution_count": 93,
     "metadata": {},
     "output_type": "execute_result"
    }
   ],
   "source": [
    "object_cols = df.select_dtypes(include='object').columns\n",
    "unique_counts = df[object_cols].nunique()\n",
    "unique_counts"
   ]
  },
  {
   "cell_type": "markdown",
   "metadata": {},
   "source": [
    "**Task**: Based on your findings, identify features that you think should be transformed using one-hot encoding.\n",
    "\n",
    "1. Use the code cell below to inspect the unique *values* that each of these features have."
   ]
  },
  {
   "cell_type": "code",
   "execution_count": 94,
   "metadata": {},
   "outputs": [
    {
     "name": "stdout",
     "output_type": "stream",
     "text": [
      "Candidate features for one-hot encoding:\n",
      "['last_scraped', 'host_response_rate', 'host_is_superhost', 'host_has_profile_pic', 'host_identity_verified', 'neighbourhood_group_cleansed', 'property_type', 'room_type', 'bathrooms_text', 'has_availability', 'calendar_last_scraped', 'license', 'instant_bookable']\n",
      "\n",
      "Unique values for 'last_scraped':\n",
      "['2021-12-05' '2021-12-04']\n",
      "\n",
      "Unique values for 'host_response_rate':\n",
      "['80%' '9%' '100%' nan '75%' '0%' '90%' '77%' '98%' '50%' '93%' '67%'\n",
      " '38%' '92%' '95%' '89%' '97%' '10%' '60%' '20%' '88%' '86%' '57%' '70%'\n",
      " '17%' '87%' '33%' '83%' '96%' '91%' '23%' '40%' '30%' '99%' '73%' '94%'\n",
      " '82%' '22%' '11%' '29%' '85%' '71%' '79%' '61%' '25%' '68%' '78%' '76%'\n",
      " '81%' '65%' '56%' '43%' '74%' '13%' '35%' '63%' '14%' '5%' '55%' '26%'\n",
      " '32%' '72%' '64%' '53%' '31%' '27%' '6%' '46%' '52%' '44%' '84%' '36%'\n",
      " '18%' '62%' '59%' '58%' '47%' '69%' '41%' '42%' '7%' '24%' '8%' '39%'\n",
      " '4%' '21%' '37%' '45%' '54%']\n",
      "\n",
      "Unique values for 'host_is_superhost':\n",
      "['f' 't' nan]\n",
      "\n",
      "Unique values for 'host_has_profile_pic':\n",
      "['t' 'f' nan]\n",
      "\n",
      "Unique values for 'host_identity_verified':\n",
      "['t' 'f' nan]\n",
      "\n",
      "Unique values for 'neighbourhood_group_cleansed':\n",
      "['Manhattan' 'Brooklyn' 'Queens' 'Staten Island' 'Bronx']\n",
      "\n",
      "Unique values for 'property_type':\n",
      "['Entire rental unit' 'Entire guest suite' 'Private room in rental unit'\n",
      " 'Private room in townhouse' 'Private room in condominium (condo)'\n",
      " 'Private room in loft' 'Entire loft' 'Private room in residential home'\n",
      " 'Entire condominium (condo)' 'Entire residential home' 'Entire townhouse'\n",
      " 'Private room in bed and breakfast' 'Entire guesthouse'\n",
      " 'Private room in guest suite' 'Room in boutique hotel'\n",
      " 'Shared room in loft' 'Shared room in rental unit'\n",
      " 'Shared room in residential home' 'Private room' 'Private room in hostel'\n",
      " 'Entire place' 'Private room in guesthouse' 'Boat'\n",
      " 'Entire serviced apartment' 'Room in aparthotel' 'Floor'\n",
      " 'Private room in vacation home' 'Room in serviced apartment'\n",
      " 'Entire cottage' 'Private room in serviced apartment' 'Room in hotel'\n",
      " 'Cave' 'Tiny house' 'Private room in floor'\n",
      " 'Shared room in condominium (condo)' 'Entire bungalow'\n",
      " 'Private room in casa particular' 'Shared room in townhouse' 'Houseboat'\n",
      " 'Private room in bungalow' 'Entire villa' 'Private room in resort'\n",
      " 'Shared room in guest suite' 'Private room in castle'\n",
      " 'Private room in villa' 'Shared room in floor' 'Entire bed and breakfast'\n",
      " 'Entire home/apt' 'Private room in tiny house' 'Private room in tent'\n",
      " 'Private room in in-law' 'Private room in barn' 'Shared room in hostel'\n",
      " 'Camper/RV' 'Room in resort' 'Shared room in guesthouse' 'Bus'\n",
      " 'Shared room in bed and breakfast' 'Private room in farm stay'\n",
      " 'Private room in dorm' 'Room in bed and breakfast'\n",
      " 'Shared room in island' 'Shared room in bungalow'\n",
      " 'Shared room in serviced apartment' 'Private room in earth house'\n",
      " 'Lighthouse' 'Private room in train' 'Barn' 'Private room in lighthouse'\n",
      " 'Entire cabin' 'Private room in camper/rv' 'Castle' 'Tent' 'Tower'\n",
      " 'Casa particular' 'Shared room in casa particular'\n",
      " 'Private room in cycladic house' 'Entire vacation home']\n",
      "\n",
      "Unique values for 'room_type':\n",
      "['Entire home/apt' 'Private room' 'Hotel room' 'Shared room']\n",
      "\n",
      "Unique values for 'bathrooms_text':\n",
      "['1 bath' nan '1.5 baths' '1 shared bath' '1 private bath'\n",
      " 'Shared half-bath' '2 baths' '1.5 shared baths' '3 baths' 'Half-bath'\n",
      " '2.5 baths' '2 shared baths' '0 baths' '4 baths' '0 shared baths'\n",
      " 'Private half-bath' '5 baths' '4.5 baths' '5.5 baths' '2.5 shared baths'\n",
      " '3.5 baths' '3 shared baths' '4 shared baths' '6 baths'\n",
      " '3.5 shared baths' '4.5 shared baths' '7.5 baths' '6.5 baths' '8 baths'\n",
      " '7 baths' '6 shared baths']\n",
      "\n",
      "Unique values for 'has_availability':\n",
      "['t' 'f']\n",
      "\n",
      "Unique values for 'calendar_last_scraped':\n",
      "['2021-12-05' '2021-12-04']\n",
      "\n",
      "Unique values for 'license':\n",
      "[nan '41662/AL']\n",
      "\n",
      "Unique values for 'instant_bookable':\n",
      "['f' 't']\n"
     ]
    }
   ],
   "source": [
    "candidate_features = unique_counts[unique_counts < 100].index.tolist()\n",
    "print(\"Candidate features for one-hot encoding:\")\n",
    "print(candidate_features)\n",
    "\n",
    "for feature in candidate_features:\n",
    "    print(f\"\\nUnique values for '{feature}':\")\n",
    "    print(df[feature].unique())"
   ]
  },
  {
   "cell_type": "markdown",
   "metadata": {},
   "source": [
    "2.  List these features and explain why they would be suitable for one-hot encoding. Note your findings in the markdown cell below."
   ]
  },
  {
   "cell_type": "markdown",
   "metadata": {},
   "source": [
    "### Features Suitable for One-Hot Encoding\n",
    "\n",
    "- **last_scraped**: This column contains only 2 unique date values, representing when the listing was last scraped. Since it has very few unique values, one-hot encoding can help the model differentiate between these two time points without imposing an ordinal relationship.\n",
    "\n",
    "- **host_response_rate**: This feature contains percentages indicating how often the host responds to inquiries. It has many unique values but they are categorical percentages (often represented as strings). One-hot encoding can help capture specific response rate categories without assuming numeric continuity.\n",
    "\n",
    "- **property_type**: This feature describes the type of property being listed (e.g., entire rental unit, private room, loft, etc.). Since there are multiple distinct categories with no inherent order, one-hot encoding is ideal to represent these discrete options as binary features.\n",
    "\n",
    "- **bathrooms_text**: This column includes descriptions of the bathrooms in various formats (e.g., '1 bath', '1.5 baths', 'shared bath'). Because it is categorical text data with moderate unique values and no meaningful numeric order, one-hot encoding is appropriate.\n",
    "\n",
    "- **calendar_last_scraped**: Similar to `last_scraped`, this contains only 2 unique values representing the last date the calendar was scraped. One-hot encoding helps differentiate between these two timestamps as categories.\n",
    "\n",
    "- **license**: This column contains license information for the listing, but mostly missing values and very few unique values. One-hot encoding can help distinguish listings that have a license number from those that don’t.\n",
    "\n",
    "---\n",
    "\n",
    "### Summary:\n",
    "All these features are categorical with relatively few unique values, making them well-suited for one-hot encoding. One-hot encoding will convert these categorical features into binary vectors, allowing machine learning models to process them effectively without assuming any ordinal relationship."
   ]
  },
  {
   "cell_type": "markdown",
   "metadata": {},
   "source": [
    "**Task**: In the code cell below, one-hot encode one of the features you have identified and replace the original column in DataFrame `df` with the new one-hot encoded columns. "
   ]
  },
  {
   "cell_type": "code",
   "execution_count": 95,
   "metadata": {},
   "outputs": [
    {
     "name": "stdout",
     "output_type": "stream",
     "text": [
      "One-hot encoded columns added for 'property_type':\n",
      "['property_type_Barn', 'property_type_Boat', 'property_type_Bus', 'property_type_Camper/RV', 'property_type_Casa particular', 'property_type_Castle', 'property_type_Cave', 'property_type_Entire bed and breakfast', 'property_type_Entire bungalow', 'property_type_Entire cabin', 'property_type_Entire condominium (condo)', 'property_type_Entire cottage', 'property_type_Entire guest suite', 'property_type_Entire guesthouse', 'property_type_Entire home/apt', 'property_type_Entire loft', 'property_type_Entire place', 'property_type_Entire rental unit', 'property_type_Entire residential home', 'property_type_Entire serviced apartment', 'property_type_Entire townhouse', 'property_type_Entire vacation home', 'property_type_Entire villa', 'property_type_Floor', 'property_type_Houseboat', 'property_type_Lighthouse', 'property_type_Private room', 'property_type_Private room in barn', 'property_type_Private room in bed and breakfast', 'property_type_Private room in bungalow', 'property_type_Private room in camper/rv', 'property_type_Private room in casa particular', 'property_type_Private room in castle', 'property_type_Private room in condominium (condo)', 'property_type_Private room in cycladic house', 'property_type_Private room in dorm', 'property_type_Private room in earth house', 'property_type_Private room in farm stay', 'property_type_Private room in floor', 'property_type_Private room in guest suite', 'property_type_Private room in guesthouse', 'property_type_Private room in hostel', 'property_type_Private room in in-law', 'property_type_Private room in lighthouse', 'property_type_Private room in loft', 'property_type_Private room in rental unit', 'property_type_Private room in residential home', 'property_type_Private room in resort', 'property_type_Private room in serviced apartment', 'property_type_Private room in tent', 'property_type_Private room in tiny house', 'property_type_Private room in townhouse', 'property_type_Private room in train', 'property_type_Private room in vacation home', 'property_type_Private room in villa', 'property_type_Room in aparthotel', 'property_type_Room in bed and breakfast', 'property_type_Room in boutique hotel', 'property_type_Room in hotel', 'property_type_Room in resort', 'property_type_Room in serviced apartment', 'property_type_Shared room in bed and breakfast', 'property_type_Shared room in bungalow', 'property_type_Shared room in casa particular', 'property_type_Shared room in condominium (condo)', 'property_type_Shared room in floor', 'property_type_Shared room in guest suite', 'property_type_Shared room in guesthouse', 'property_type_Shared room in hostel', 'property_type_Shared room in island', 'property_type_Shared room in loft', 'property_type_Shared room in rental unit', 'property_type_Shared room in residential home', 'property_type_Shared room in serviced apartment', 'property_type_Shared room in townhouse', 'property_type_Tent', 'property_type_Tiny house', 'property_type_Tower']\n"
     ]
    }
   ],
   "source": [
    "# One-hot encode the 'property_type' feature\n",
    "property_type_dummies = pd.get_dummies(df['property_type'], prefix='property_type')\n",
    "\n",
    "# Drop the original 'property_type' column from df\n",
    "df = df.drop('property_type', axis=1)\n",
    "\n",
    "# Concatenate the one-hot encoded columns with the original DataFrame\n",
    "df = pd.concat([df, property_type_dummies], axis=1)\n",
    "\n",
    "# Display the new columns for confirmation\n",
    "print(\"One-hot encoded columns added for 'property_type':\")\n",
    "print(property_type_dummies.columns.tolist())"
   ]
  },
  {
   "cell_type": "markdown",
   "metadata": {},
   "source": [
    "## Part 4. Explore Your Data"
   ]
  },
  {
   "cell_type": "markdown",
   "metadata": {},
   "source": [
    "You will now perform exploratory data analysis in preparation for selecting your features as part of feature engineering. \n",
    "\n",
    "#### Identify Correlations\n",
    "\n",
    "We will focus on identifying which features in the data have the highest correlation with the label."
   ]
  },
  {
   "cell_type": "markdown",
   "metadata": {},
   "source": [
    "Let's first run the `corr()` method on DataFrame `df` and save the result to the variable `corr_matrix`. Let's round the resulting correlations to five decimal places:"
   ]
  },
  {
   "cell_type": "code",
   "execution_count": 96,
   "metadata": {},
   "outputs": [
    {
     "data": {
      "text/html": [
       "<div>\n",
       "<style scoped>\n",
       "    .dataframe tbody tr th:only-of-type {\n",
       "        vertical-align: middle;\n",
       "    }\n",
       "\n",
       "    .dataframe tbody tr th {\n",
       "        vertical-align: top;\n",
       "    }\n",
       "\n",
       "    .dataframe thead th {\n",
       "        text-align: right;\n",
       "    }\n",
       "</style>\n",
       "<table border=\"1\" class=\"dataframe\">\n",
       "  <thead>\n",
       "    <tr style=\"text-align: right;\">\n",
       "      <th></th>\n",
       "      <th>id</th>\n",
       "      <th>scrape_id</th>\n",
       "      <th>host_id</th>\n",
       "      <th>host_listings_count</th>\n",
       "      <th>host_total_listings_count</th>\n",
       "      <th>latitude</th>\n",
       "      <th>longitude</th>\n",
       "      <th>accommodates</th>\n",
       "      <th>bathrooms</th>\n",
       "      <th>bedrooms</th>\n",
       "      <th>...</th>\n",
       "      <th>property_type_Shared room in hostel</th>\n",
       "      <th>property_type_Shared room in island</th>\n",
       "      <th>property_type_Shared room in loft</th>\n",
       "      <th>property_type_Shared room in rental unit</th>\n",
       "      <th>property_type_Shared room in residential home</th>\n",
       "      <th>property_type_Shared room in serviced apartment</th>\n",
       "      <th>property_type_Shared room in townhouse</th>\n",
       "      <th>property_type_Tent</th>\n",
       "      <th>property_type_Tiny house</th>\n",
       "      <th>property_type_Tower</th>\n",
       "    </tr>\n",
       "  </thead>\n",
       "  <tbody>\n",
       "    <tr>\n",
       "      <th>id</th>\n",
       "      <td>1.00000</td>\n",
       "      <td>-0.0</td>\n",
       "      <td>0.58617</td>\n",
       "      <td>0.12986</td>\n",
       "      <td>0.12986</td>\n",
       "      <td>0.01000</td>\n",
       "      <td>0.08708</td>\n",
       "      <td>0.03540</td>\n",
       "      <td>NaN</td>\n",
       "      <td>0.04503</td>\n",
       "      <td>...</td>\n",
       "      <td>0.01220</td>\n",
       "      <td>0.00179</td>\n",
       "      <td>-0.00248</td>\n",
       "      <td>0.00054</td>\n",
       "      <td>0.01833</td>\n",
       "      <td>0.00674</td>\n",
       "      <td>0.00508</td>\n",
       "      <td>0.00604</td>\n",
       "      <td>-0.00184</td>\n",
       "      <td>0.00634</td>\n",
       "    </tr>\n",
       "    <tr>\n",
       "      <th>scrape_id</th>\n",
       "      <td>-0.00000</td>\n",
       "      <td>1.0</td>\n",
       "      <td>0.00000</td>\n",
       "      <td>-0.00000</td>\n",
       "      <td>-0.00000</td>\n",
       "      <td>0.00000</td>\n",
       "      <td>-0.00000</td>\n",
       "      <td>0.00000</td>\n",
       "      <td>NaN</td>\n",
       "      <td>0.00000</td>\n",
       "      <td>...</td>\n",
       "      <td>0.00000</td>\n",
       "      <td>0.00000</td>\n",
       "      <td>0.00000</td>\n",
       "      <td>-0.00000</td>\n",
       "      <td>0.00000</td>\n",
       "      <td>0.00000</td>\n",
       "      <td>0.00000</td>\n",
       "      <td>0.00000</td>\n",
       "      <td>0.00000</td>\n",
       "      <td>0.00000</td>\n",
       "    </tr>\n",
       "    <tr>\n",
       "      <th>host_id</th>\n",
       "      <td>0.58617</td>\n",
       "      <td>0.0</td>\n",
       "      <td>1.00000</td>\n",
       "      <td>0.03189</td>\n",
       "      <td>0.03189</td>\n",
       "      <td>0.04148</td>\n",
       "      <td>0.11620</td>\n",
       "      <td>0.02723</td>\n",
       "      <td>NaN</td>\n",
       "      <td>0.02202</td>\n",
       "      <td>...</td>\n",
       "      <td>0.01000</td>\n",
       "      <td>-0.00171</td>\n",
       "      <td>-0.01050</td>\n",
       "      <td>0.02761</td>\n",
       "      <td>0.03402</td>\n",
       "      <td>0.01170</td>\n",
       "      <td>0.00860</td>\n",
       "      <td>0.00740</td>\n",
       "      <td>0.00225</td>\n",
       "      <td>-0.00297</td>\n",
       "    </tr>\n",
       "    <tr>\n",
       "      <th>host_listings_count</th>\n",
       "      <td>0.12986</td>\n",
       "      <td>-0.0</td>\n",
       "      <td>0.03189</td>\n",
       "      <td>1.00000</td>\n",
       "      <td>1.00000</td>\n",
       "      <td>0.03475</td>\n",
       "      <td>-0.08843</td>\n",
       "      <td>-0.02621</td>\n",
       "      <td>NaN</td>\n",
       "      <td>-0.01710</td>\n",
       "      <td>...</td>\n",
       "      <td>-0.00254</td>\n",
       "      <td>-0.00057</td>\n",
       "      <td>-0.00399</td>\n",
       "      <td>-0.01586</td>\n",
       "      <td>-0.00564</td>\n",
       "      <td>-0.00135</td>\n",
       "      <td>-0.00230</td>\n",
       "      <td>-0.00077</td>\n",
       "      <td>-0.00253</td>\n",
       "      <td>-0.00065</td>\n",
       "    </tr>\n",
       "    <tr>\n",
       "      <th>host_total_listings_count</th>\n",
       "      <td>0.12986</td>\n",
       "      <td>-0.0</td>\n",
       "      <td>0.03189</td>\n",
       "      <td>1.00000</td>\n",
       "      <td>1.00000</td>\n",
       "      <td>0.03475</td>\n",
       "      <td>-0.08843</td>\n",
       "      <td>-0.02621</td>\n",
       "      <td>NaN</td>\n",
       "      <td>-0.01710</td>\n",
       "      <td>...</td>\n",
       "      <td>-0.00254</td>\n",
       "      <td>-0.00057</td>\n",
       "      <td>-0.00399</td>\n",
       "      <td>-0.01586</td>\n",
       "      <td>-0.00564</td>\n",
       "      <td>-0.00135</td>\n",
       "      <td>-0.00230</td>\n",
       "      <td>-0.00077</td>\n",
       "      <td>-0.00253</td>\n",
       "      <td>-0.00065</td>\n",
       "    </tr>\n",
       "    <tr>\n",
       "      <th>...</th>\n",
       "      <td>...</td>\n",
       "      <td>...</td>\n",
       "      <td>...</td>\n",
       "      <td>...</td>\n",
       "      <td>...</td>\n",
       "      <td>...</td>\n",
       "      <td>...</td>\n",
       "      <td>...</td>\n",
       "      <td>...</td>\n",
       "      <td>...</td>\n",
       "      <td>...</td>\n",
       "      <td>...</td>\n",
       "      <td>...</td>\n",
       "      <td>...</td>\n",
       "      <td>...</td>\n",
       "      <td>...</td>\n",
       "      <td>...</td>\n",
       "      <td>...</td>\n",
       "      <td>...</td>\n",
       "      <td>...</td>\n",
       "      <td>...</td>\n",
       "    </tr>\n",
       "    <tr>\n",
       "      <th>property_type_Shared room in serviced apartment</th>\n",
       "      <td>0.00674</td>\n",
       "      <td>0.0</td>\n",
       "      <td>0.01170</td>\n",
       "      <td>-0.00135</td>\n",
       "      <td>-0.00135</td>\n",
       "      <td>0.00438</td>\n",
       "      <td>0.00738</td>\n",
       "      <td>-0.00375</td>\n",
       "      <td>NaN</td>\n",
       "      <td>-0.00427</td>\n",
       "      <td>...</td>\n",
       "      <td>-0.00016</td>\n",
       "      <td>-0.00005</td>\n",
       "      <td>-0.00024</td>\n",
       "      <td>-0.00094</td>\n",
       "      <td>-0.00034</td>\n",
       "      <td>1.00000</td>\n",
       "      <td>-0.00014</td>\n",
       "      <td>-0.00005</td>\n",
       "      <td>-0.00015</td>\n",
       "      <td>-0.00005</td>\n",
       "    </tr>\n",
       "    <tr>\n",
       "      <th>property_type_Shared room in townhouse</th>\n",
       "      <td>0.00508</td>\n",
       "      <td>0.0</td>\n",
       "      <td>0.00860</td>\n",
       "      <td>-0.00230</td>\n",
       "      <td>-0.00230</td>\n",
       "      <td>-0.01867</td>\n",
       "      <td>0.00084</td>\n",
       "      <td>-0.01117</td>\n",
       "      <td>NaN</td>\n",
       "      <td>-0.00780</td>\n",
       "      <td>...</td>\n",
       "      <td>-0.00029</td>\n",
       "      <td>-0.00008</td>\n",
       "      <td>-0.00044</td>\n",
       "      <td>-0.00173</td>\n",
       "      <td>-0.00062</td>\n",
       "      <td>-0.00014</td>\n",
       "      <td>1.00000</td>\n",
       "      <td>-0.00008</td>\n",
       "      <td>-0.00027</td>\n",
       "      <td>-0.00008</td>\n",
       "    </tr>\n",
       "    <tr>\n",
       "      <th>property_type_Tent</th>\n",
       "      <td>0.00604</td>\n",
       "      <td>0.0</td>\n",
       "      <td>0.00740</td>\n",
       "      <td>-0.00077</td>\n",
       "      <td>-0.00077</td>\n",
       "      <td>0.00370</td>\n",
       "      <td>-0.00420</td>\n",
       "      <td>0.00877</td>\n",
       "      <td>NaN</td>\n",
       "      <td>0.00516</td>\n",
       "      <td>...</td>\n",
       "      <td>-0.00009</td>\n",
       "      <td>-0.00003</td>\n",
       "      <td>-0.00014</td>\n",
       "      <td>-0.00055</td>\n",
       "      <td>-0.00020</td>\n",
       "      <td>-0.00005</td>\n",
       "      <td>-0.00008</td>\n",
       "      <td>1.00000</td>\n",
       "      <td>-0.00009</td>\n",
       "      <td>-0.00003</td>\n",
       "    </tr>\n",
       "    <tr>\n",
       "      <th>property_type_Tiny house</th>\n",
       "      <td>-0.00184</td>\n",
       "      <td>0.0</td>\n",
       "      <td>0.00225</td>\n",
       "      <td>-0.00253</td>\n",
       "      <td>-0.00253</td>\n",
       "      <td>-0.00668</td>\n",
       "      <td>0.01648</td>\n",
       "      <td>0.01178</td>\n",
       "      <td>NaN</td>\n",
       "      <td>0.00859</td>\n",
       "      <td>...</td>\n",
       "      <td>-0.00030</td>\n",
       "      <td>-0.00009</td>\n",
       "      <td>-0.00046</td>\n",
       "      <td>-0.00181</td>\n",
       "      <td>-0.00065</td>\n",
       "      <td>-0.00015</td>\n",
       "      <td>-0.00027</td>\n",
       "      <td>-0.00009</td>\n",
       "      <td>1.00000</td>\n",
       "      <td>-0.00009</td>\n",
       "    </tr>\n",
       "    <tr>\n",
       "      <th>property_type_Tower</th>\n",
       "      <td>0.00634</td>\n",
       "      <td>0.0</td>\n",
       "      <td>-0.00297</td>\n",
       "      <td>-0.00065</td>\n",
       "      <td>-0.00065</td>\n",
       "      <td>-0.00354</td>\n",
       "      <td>0.00342</td>\n",
       "      <td>0.03611</td>\n",
       "      <td>NaN</td>\n",
       "      <td>0.03565</td>\n",
       "      <td>...</td>\n",
       "      <td>-0.00009</td>\n",
       "      <td>-0.00003</td>\n",
       "      <td>-0.00014</td>\n",
       "      <td>-0.00055</td>\n",
       "      <td>-0.00020</td>\n",
       "      <td>-0.00005</td>\n",
       "      <td>-0.00008</td>\n",
       "      <td>-0.00003</td>\n",
       "      <td>-0.00009</td>\n",
       "      <td>1.00000</td>\n",
       "    </tr>\n",
       "  </tbody>\n",
       "</table>\n",
       "<p>144 rows × 144 columns</p>\n",
       "</div>"
      ],
      "text/plain": [
       "                                                      id  scrape_id  host_id  \\\n",
       "id                                               1.00000       -0.0  0.58617   \n",
       "scrape_id                                       -0.00000        1.0  0.00000   \n",
       "host_id                                          0.58617        0.0  1.00000   \n",
       "host_listings_count                              0.12986       -0.0  0.03189   \n",
       "host_total_listings_count                        0.12986       -0.0  0.03189   \n",
       "...                                                  ...        ...      ...   \n",
       "property_type_Shared room in serviced apartment  0.00674        0.0  0.01170   \n",
       "property_type_Shared room in townhouse           0.00508        0.0  0.00860   \n",
       "property_type_Tent                               0.00604        0.0  0.00740   \n",
       "property_type_Tiny house                        -0.00184        0.0  0.00225   \n",
       "property_type_Tower                              0.00634        0.0 -0.00297   \n",
       "\n",
       "                                                 host_listings_count  \\\n",
       "id                                                           0.12986   \n",
       "scrape_id                                                   -0.00000   \n",
       "host_id                                                      0.03189   \n",
       "host_listings_count                                          1.00000   \n",
       "host_total_listings_count                                    1.00000   \n",
       "...                                                              ...   \n",
       "property_type_Shared room in serviced apartment             -0.00135   \n",
       "property_type_Shared room in townhouse                      -0.00230   \n",
       "property_type_Tent                                          -0.00077   \n",
       "property_type_Tiny house                                    -0.00253   \n",
       "property_type_Tower                                         -0.00065   \n",
       "\n",
       "                                                 host_total_listings_count  \\\n",
       "id                                                                 0.12986   \n",
       "scrape_id                                                         -0.00000   \n",
       "host_id                                                            0.03189   \n",
       "host_listings_count                                                1.00000   \n",
       "host_total_listings_count                                          1.00000   \n",
       "...                                                                    ...   \n",
       "property_type_Shared room in serviced apartment                   -0.00135   \n",
       "property_type_Shared room in townhouse                            -0.00230   \n",
       "property_type_Tent                                                -0.00077   \n",
       "property_type_Tiny house                                          -0.00253   \n",
       "property_type_Tower                                               -0.00065   \n",
       "\n",
       "                                                 latitude  longitude  \\\n",
       "id                                                0.01000    0.08708   \n",
       "scrape_id                                         0.00000   -0.00000   \n",
       "host_id                                           0.04148    0.11620   \n",
       "host_listings_count                               0.03475   -0.08843   \n",
       "host_total_listings_count                         0.03475   -0.08843   \n",
       "...                                                   ...        ...   \n",
       "property_type_Shared room in serviced apartment   0.00438    0.00738   \n",
       "property_type_Shared room in townhouse           -0.01867    0.00084   \n",
       "property_type_Tent                                0.00370   -0.00420   \n",
       "property_type_Tiny house                         -0.00668    0.01648   \n",
       "property_type_Tower                              -0.00354    0.00342   \n",
       "\n",
       "                                                 accommodates  bathrooms  \\\n",
       "id                                                    0.03540        NaN   \n",
       "scrape_id                                             0.00000        NaN   \n",
       "host_id                                               0.02723        NaN   \n",
       "host_listings_count                                  -0.02621        NaN   \n",
       "host_total_listings_count                            -0.02621        NaN   \n",
       "...                                                       ...        ...   \n",
       "property_type_Shared room in serviced apartment      -0.00375        NaN   \n",
       "property_type_Shared room in townhouse               -0.01117        NaN   \n",
       "property_type_Tent                                    0.00877        NaN   \n",
       "property_type_Tiny house                              0.01178        NaN   \n",
       "property_type_Tower                                   0.03611        NaN   \n",
       "\n",
       "                                                 bedrooms  ...  \\\n",
       "id                                                0.04503  ...   \n",
       "scrape_id                                         0.00000  ...   \n",
       "host_id                                           0.02202  ...   \n",
       "host_listings_count                              -0.01710  ...   \n",
       "host_total_listings_count                        -0.01710  ...   \n",
       "...                                                   ...  ...   \n",
       "property_type_Shared room in serviced apartment  -0.00427  ...   \n",
       "property_type_Shared room in townhouse           -0.00780  ...   \n",
       "property_type_Tent                                0.00516  ...   \n",
       "property_type_Tiny house                          0.00859  ...   \n",
       "property_type_Tower                               0.03565  ...   \n",
       "\n",
       "                                                 property_type_Shared room in hostel  \\\n",
       "id                                                                           0.01220   \n",
       "scrape_id                                                                    0.00000   \n",
       "host_id                                                                      0.01000   \n",
       "host_listings_count                                                         -0.00254   \n",
       "host_total_listings_count                                                   -0.00254   \n",
       "...                                                                              ...   \n",
       "property_type_Shared room in serviced apartment                             -0.00016   \n",
       "property_type_Shared room in townhouse                                      -0.00029   \n",
       "property_type_Tent                                                          -0.00009   \n",
       "property_type_Tiny house                                                    -0.00030   \n",
       "property_type_Tower                                                         -0.00009   \n",
       "\n",
       "                                                 property_type_Shared room in island  \\\n",
       "id                                                                           0.00179   \n",
       "scrape_id                                                                    0.00000   \n",
       "host_id                                                                     -0.00171   \n",
       "host_listings_count                                                         -0.00057   \n",
       "host_total_listings_count                                                   -0.00057   \n",
       "...                                                                              ...   \n",
       "property_type_Shared room in serviced apartment                             -0.00005   \n",
       "property_type_Shared room in townhouse                                      -0.00008   \n",
       "property_type_Tent                                                          -0.00003   \n",
       "property_type_Tiny house                                                    -0.00009   \n",
       "property_type_Tower                                                         -0.00003   \n",
       "\n",
       "                                                 property_type_Shared room in loft  \\\n",
       "id                                                                        -0.00248   \n",
       "scrape_id                                                                  0.00000   \n",
       "host_id                                                                   -0.01050   \n",
       "host_listings_count                                                       -0.00399   \n",
       "host_total_listings_count                                                 -0.00399   \n",
       "...                                                                            ...   \n",
       "property_type_Shared room in serviced apartment                           -0.00024   \n",
       "property_type_Shared room in townhouse                                    -0.00044   \n",
       "property_type_Tent                                                        -0.00014   \n",
       "property_type_Tiny house                                                  -0.00046   \n",
       "property_type_Tower                                                       -0.00014   \n",
       "\n",
       "                                                 property_type_Shared room in rental unit  \\\n",
       "id                                                                                0.00054   \n",
       "scrape_id                                                                        -0.00000   \n",
       "host_id                                                                           0.02761   \n",
       "host_listings_count                                                              -0.01586   \n",
       "host_total_listings_count                                                        -0.01586   \n",
       "...                                                                                   ...   \n",
       "property_type_Shared room in serviced apartment                                  -0.00094   \n",
       "property_type_Shared room in townhouse                                           -0.00173   \n",
       "property_type_Tent                                                               -0.00055   \n",
       "property_type_Tiny house                                                         -0.00181   \n",
       "property_type_Tower                                                              -0.00055   \n",
       "\n",
       "                                                 property_type_Shared room in residential home  \\\n",
       "id                                                                                     0.01833   \n",
       "scrape_id                                                                              0.00000   \n",
       "host_id                                                                                0.03402   \n",
       "host_listings_count                                                                   -0.00564   \n",
       "host_total_listings_count                                                             -0.00564   \n",
       "...                                                                                        ...   \n",
       "property_type_Shared room in serviced apartment                                       -0.00034   \n",
       "property_type_Shared room in townhouse                                                -0.00062   \n",
       "property_type_Tent                                                                    -0.00020   \n",
       "property_type_Tiny house                                                              -0.00065   \n",
       "property_type_Tower                                                                   -0.00020   \n",
       "\n",
       "                                                 property_type_Shared room in serviced apartment  \\\n",
       "id                                                                                       0.00674   \n",
       "scrape_id                                                                                0.00000   \n",
       "host_id                                                                                  0.01170   \n",
       "host_listings_count                                                                     -0.00135   \n",
       "host_total_listings_count                                                               -0.00135   \n",
       "...                                                                                          ...   \n",
       "property_type_Shared room in serviced apartment                                          1.00000   \n",
       "property_type_Shared room in townhouse                                                  -0.00014   \n",
       "property_type_Tent                                                                      -0.00005   \n",
       "property_type_Tiny house                                                                -0.00015   \n",
       "property_type_Tower                                                                     -0.00005   \n",
       "\n",
       "                                                 property_type_Shared room in townhouse  \\\n",
       "id                                                                              0.00508   \n",
       "scrape_id                                                                       0.00000   \n",
       "host_id                                                                         0.00860   \n",
       "host_listings_count                                                            -0.00230   \n",
       "host_total_listings_count                                                      -0.00230   \n",
       "...                                                                                 ...   \n",
       "property_type_Shared room in serviced apartment                                -0.00014   \n",
       "property_type_Shared room in townhouse                                          1.00000   \n",
       "property_type_Tent                                                             -0.00008   \n",
       "property_type_Tiny house                                                       -0.00027   \n",
       "property_type_Tower                                                            -0.00008   \n",
       "\n",
       "                                                 property_type_Tent  \\\n",
       "id                                                          0.00604   \n",
       "scrape_id                                                   0.00000   \n",
       "host_id                                                     0.00740   \n",
       "host_listings_count                                        -0.00077   \n",
       "host_total_listings_count                                  -0.00077   \n",
       "...                                                             ...   \n",
       "property_type_Shared room in serviced apartment            -0.00005   \n",
       "property_type_Shared room in townhouse                     -0.00008   \n",
       "property_type_Tent                                          1.00000   \n",
       "property_type_Tiny house                                   -0.00009   \n",
       "property_type_Tower                                        -0.00003   \n",
       "\n",
       "                                                 property_type_Tiny house  \\\n",
       "id                                                               -0.00184   \n",
       "scrape_id                                                         0.00000   \n",
       "host_id                                                           0.00225   \n",
       "host_listings_count                                              -0.00253   \n",
       "host_total_listings_count                                        -0.00253   \n",
       "...                                                                   ...   \n",
       "property_type_Shared room in serviced apartment                  -0.00015   \n",
       "property_type_Shared room in townhouse                           -0.00027   \n",
       "property_type_Tent                                               -0.00009   \n",
       "property_type_Tiny house                                          1.00000   \n",
       "property_type_Tower                                              -0.00009   \n",
       "\n",
       "                                                 property_type_Tower  \n",
       "id                                                           0.00634  \n",
       "scrape_id                                                    0.00000  \n",
       "host_id                                                     -0.00297  \n",
       "host_listings_count                                         -0.00065  \n",
       "host_total_listings_count                                   -0.00065  \n",
       "...                                                              ...  \n",
       "property_type_Shared room in serviced apartment             -0.00005  \n",
       "property_type_Shared room in townhouse                      -0.00008  \n",
       "property_type_Tent                                          -0.00003  \n",
       "property_type_Tiny house                                    -0.00009  \n",
       "property_type_Tower                                          1.00000  \n",
       "\n",
       "[144 rows x 144 columns]"
      ]
     },
     "execution_count": 96,
     "metadata": {},
     "output_type": "execute_result"
    }
   ],
   "source": [
    "corr_matrix = round(df.corr(),5)\n",
    "corr_matrix"
   ]
  },
  {
   "cell_type": "markdown",
   "metadata": {},
   "source": [
    "The result is a computed *correlation matrix*. The values on the diagonal are all equal to 1 because they represent the correlations between each column with itself. The matrix is symmetrical with respect to the diagonal.<br>\n",
    "\n",
    "We only need to observe correlations of all features with the column `label_price` (as opposed to every possible pairwise correlation). Se let's query the `label_price` column of this matrix:\n",
    "\n",
    "**Task**: Extract the `label_price` column of the correlation matrix and save the results to the variable `corrs`."
   ]
  },
  {
   "cell_type": "code",
   "execution_count": 97,
   "metadata": {},
   "outputs": [
    {
     "data": {
      "text/plain": [
       "id                                                 0.07907\n",
       "scrape_id                                         -0.00000\n",
       "host_id                                            0.04053\n",
       "host_listings_count                                0.13104\n",
       "host_total_listings_count                          0.13104\n",
       "                                                    ...   \n",
       "property_type_Shared room in serviced apartment    0.00033\n",
       "property_type_Shared room in townhouse            -0.00956\n",
       "property_type_Tent                                 0.01948\n",
       "property_type_Tiny house                           0.00460\n",
       "property_type_Tower                                0.02772\n",
       "Name: label_price, Length: 144, dtype: float64"
      ]
     },
     "execution_count": 97,
     "metadata": {},
     "output_type": "execute_result"
    }
   ],
   "source": [
    "corrs = corr_matrix['label_price']\n",
    "corrs"
   ]
  },
  {
   "cell_type": "markdown",
   "metadata": {},
   "source": [
    "**Task**: Sort the values of the series we just obtained in the descending order and save the results to the variable `corrs_sorted`."
   ]
  },
  {
   "cell_type": "code",
   "execution_count": 61,
   "metadata": {},
   "outputs": [
    {
     "data": {
      "text/plain": [
       "label_price            1.00000\n",
       "price                  0.71112\n",
       "accommodates           0.50062\n",
       "bedrooms               0.41996\n",
       "beds                   0.37370\n",
       "                        ...   \n",
       "bathrooms                  NaN\n",
       "calendar_updated           NaN\n",
       "bathrooms_na               NaN\n",
       "calendar_updated_na        NaN\n",
       "last_scraped_nan           NaN\n",
       "Name: label_price, Length: 255, dtype: float64"
      ]
     },
     "execution_count": 61,
     "metadata": {},
     "output_type": "execute_result"
    }
   ],
   "source": [
    "corrs_sorted = corrs.sort_values(ascending=False)\n",
    "corrs_sorted"
   ]
  },
  {
   "cell_type": "markdown",
   "metadata": {},
   "source": [
    "**Task**: Use Pandas indexing to extract the column names for the top two correlation values and save the results to the Python list `top_two_corr`. Add the feature names to the list in the order in which they appear in the output above. <br> \n",
    "\n",
    "<b>Note</b>: Do not count the correlation of `label` column with itself, nor the `price` column -- which is the `label` column prior to outlier removal."
   ]
  },
  {
   "cell_type": "code",
   "execution_count": 62,
   "metadata": {},
   "outputs": [
    {
     "data": {
      "text/plain": [
       "['accommodates', 'bedrooms']"
      ]
     },
     "execution_count": 62,
     "metadata": {},
     "output_type": "execute_result"
    }
   ],
   "source": [
    "top_two_corr = corrs_sorted.drop(['label_price', 'price']).head(2).index.tolist()\n",
    "top_two_corr"
   ]
  },
  {
   "cell_type": "markdown",
   "metadata": {},
   "source": [
    "#### Bivariate Plotting: Produce Plots for the Label and Its Top Correlates\n",
    "\n",
    "Let us visualize our data."
   ]
  },
  {
   "cell_type": "markdown",
   "metadata": {},
   "source": [
    "We will use the `pairplot()` function in `seaborn` to plot the relationships between the two features and the label."
   ]
  },
  {
   "cell_type": "markdown",
   "metadata": {},
   "source": [
    "**Task**: Create a DataFrame `df_corrs` that contains only three columns from DataFrame `df`: the label, and the two columns which correlate with it the most."
   ]
  },
  {
   "cell_type": "code",
   "execution_count": 63,
   "metadata": {
    "scrolled": true
   },
   "outputs": [
    {
     "data": {
      "text/html": [
       "<div>\n",
       "<style scoped>\n",
       "    .dataframe tbody tr th:only-of-type {\n",
       "        vertical-align: middle;\n",
       "    }\n",
       "\n",
       "    .dataframe tbody tr th {\n",
       "        vertical-align: top;\n",
       "    }\n",
       "\n",
       "    .dataframe thead th {\n",
       "        text-align: right;\n",
       "    }\n",
       "</style>\n",
       "<table border=\"1\" class=\"dataframe\">\n",
       "  <thead>\n",
       "    <tr style=\"text-align: right;\">\n",
       "      <th></th>\n",
       "      <th>label_price</th>\n",
       "      <th>accommodates</th>\n",
       "      <th>bedrooms</th>\n",
       "    </tr>\n",
       "  </thead>\n",
       "  <tbody>\n",
       "    <tr>\n",
       "      <th>0</th>\n",
       "      <td>150.0</td>\n",
       "      <td>1</td>\n",
       "      <td>1.323567</td>\n",
       "    </tr>\n",
       "    <tr>\n",
       "      <th>1</th>\n",
       "      <td>75.0</td>\n",
       "      <td>3</td>\n",
       "      <td>1.000000</td>\n",
       "    </tr>\n",
       "    <tr>\n",
       "      <th>2</th>\n",
       "      <td>60.0</td>\n",
       "      <td>2</td>\n",
       "      <td>1.000000</td>\n",
       "    </tr>\n",
       "    <tr>\n",
       "      <th>3</th>\n",
       "      <td>275.0</td>\n",
       "      <td>4</td>\n",
       "      <td>2.000000</td>\n",
       "    </tr>\n",
       "    <tr>\n",
       "      <th>4</th>\n",
       "      <td>68.0</td>\n",
       "      <td>2</td>\n",
       "      <td>1.000000</td>\n",
       "    </tr>\n",
       "    <tr>\n",
       "      <th>...</th>\n",
       "      <td>...</td>\n",
       "      <td>...</td>\n",
       "      <td>...</td>\n",
       "    </tr>\n",
       "    <tr>\n",
       "      <th>38272</th>\n",
       "      <td>79.0</td>\n",
       "      <td>2</td>\n",
       "      <td>1.000000</td>\n",
       "    </tr>\n",
       "    <tr>\n",
       "      <th>38273</th>\n",
       "      <td>76.0</td>\n",
       "      <td>2</td>\n",
       "      <td>1.000000</td>\n",
       "    </tr>\n",
       "    <tr>\n",
       "      <th>38274</th>\n",
       "      <td>116.0</td>\n",
       "      <td>2</td>\n",
       "      <td>1.000000</td>\n",
       "    </tr>\n",
       "    <tr>\n",
       "      <th>38275</th>\n",
       "      <td>106.0</td>\n",
       "      <td>2</td>\n",
       "      <td>1.000000</td>\n",
       "    </tr>\n",
       "    <tr>\n",
       "      <th>38276</th>\n",
       "      <td>689.0</td>\n",
       "      <td>14</td>\n",
       "      <td>6.000000</td>\n",
       "    </tr>\n",
       "  </tbody>\n",
       "</table>\n",
       "<p>38277 rows × 3 columns</p>\n",
       "</div>"
      ],
      "text/plain": [
       "       label_price  accommodates  bedrooms\n",
       "0            150.0             1  1.323567\n",
       "1             75.0             3  1.000000\n",
       "2             60.0             2  1.000000\n",
       "3            275.0             4  2.000000\n",
       "4             68.0             2  1.000000\n",
       "...            ...           ...       ...\n",
       "38272         79.0             2  1.000000\n",
       "38273         76.0             2  1.000000\n",
       "38274        116.0             2  1.000000\n",
       "38275        106.0             2  1.000000\n",
       "38276        689.0            14  6.000000\n",
       "\n",
       "[38277 rows x 3 columns]"
      ]
     },
     "execution_count": 63,
     "metadata": {},
     "output_type": "execute_result"
    }
   ],
   "source": [
    "df_corrs = df[['label_price'] + top_two_corr]\n",
    "df_corrs"
   ]
  },
  {
   "cell_type": "markdown",
   "metadata": {},
   "source": [
    "**Task**: Create a `seaborn` pairplot of the data subset you just created. Specify the *kernel density estimator* as the kind of the plot, and make sure that you don't plot redundant plots.\n",
    "\n",
    "<i>Note</i>: It will take a few minutes to run and produce a plot."
   ]
  },
  {
   "cell_type": "code",
   "execution_count": 64,
   "metadata": {},
   "outputs": [
    {
     "data": {
      "text/plain": [
       "<seaborn.axisgrid.PairGrid at 0x7e549bcf6860>"
      ]
     },
     "execution_count": 64,
     "metadata": {},
     "output_type": "execute_result"
    },
    {
     "data": {
      "image/png": "[encoded data removed]",
      "text/plain": [
       "<Figure size 540x540 with 9 Axes>"
      ]
     },
     "metadata": {
      "needs_background": "light"
     },
     "output_type": "display_data"
    }
   ],
   "source": [
    "import seaborn as sns\n",
    "sns.pairplot(df_corrs, kind='kde', corner=True)"
   ]
  },
  {
   "cell_type": "markdown",
   "metadata": {},
   "source": [
    "## Part 5: Analysis\n",
    "\n",
    "1. Think about the possible interpretation of the plot. Recall that the label is the listing price. <br> How would you explain the relationship between the label and the two features? Is there a slight tilt to the points cluster, as the price goes up?<br>\n",
    "2. Are the top two correlated features strongly or weakly correlated with the label? Are they features that should be used for our predictive machine learning problem?\n",
    "3. Inspect your data matrix. It has a few features that contain unstructured text, meaning text data that is neither numerical nor categorical. List some features that contain unstructured text that you think are valuable for our predictive machine learning problem. Are there other remaining features that you think need to be prepared for the modeling phase? Do you have any suggestions on how to prepare these features?\n",
    "\n",
    "Record your findings in the cell below."
   ]
  },
  {
   "cell_type": "markdown",
   "metadata": {},
   "source": [
    "### Analysis\n",
    "\n",
    "The pairplot shows the relationship between the listing price (label) and the two most correlated features. There is a slight upward trend in the clusters of points, indicating a positive correlation: as the feature values increase, the listing price tends to increase. However, the strength of this correlation may be moderate rather than very strong, meaning these features can be useful but should be combined with others for better predictions.\n",
    "\n",
    "The top two correlated features show some predictive potential, so they are good candidates to include in the machine learning model.\n",
    "\n",
    "There are several features containing unstructured text in the dataset, such as `description`, `neighborhood_overview`, and `host_about`. These features could be valuable as they may contain descriptive information affecting price, but they require special handling.\n",
    "\n",
    "To prepare these unstructured text features for modeling, techniques like Natural Language Processing (NLP) can be applied. For example, text vectorization methods such as TF-IDF or word embeddings.\n",
    "\n",
    "Other remaining features that contain categorical data should be one-hot encoded or otherwise numerically transformed. Missing values should be handled appropriately. Additionally, features like dates may require feature engineering (e.g., extracting year, month, or time differences) before modeling.\n",
    "\n",
    "Overall, careful preprocessing and feature engineering will be key to maximizing the predictive power of this dataset."
   ]
  },
  {
   "cell_type": "code",
   "execution_count": null,
   "metadata": {},
   "outputs": [],
   "source": []
  }
 ],
 "metadata": {
  "kernelspec": {
   "display_name": "Python 3",
   "language": "python",
   "name": "python3"
  },
  "language_info": {
   "codemirror_mode": {
    "name": "ipython",
    "version": 3
   },
   "file_extension": ".py",
   "mimetype": "text/x-python",
   "name": "python",
   "nbconvert_exporter": "python",
   "pygments_lexer": "ipython3",
   "version": "3.6.9"
  },
  "toc": {
   "base_numbering": 1,
   "nav_menu": {},
   "number_sections": false,
   "sideBar": true,
   "skip_h1_title": false,
   "title_cell": "Table of Contents",
   "title_sidebar": "Contents",
   "toc_cell": false,
   "toc_position": {},
   "toc_section_display": true,
   "toc_window_display": false
  },
  "varInspector": {
   "cols": {
    "lenName": 16,
    "lenType": 16,
    "lenVar": 40
   },
   "kernels_config": {
    "python": {
     "delete_cmd_postfix": "",
     "delete_cmd_prefix": "del ",
     "library": "var_list.py",
     "varRefreshCmd": "print(var_dic_list())"
    },
    "r": {
     "delete_cmd_postfix": ") ",
     "delete_cmd_prefix": "rm(",
     "library": "var_list.r",
     "varRefreshCmd": "cat(var_dic_list()) "
    }
   },
   "types_to_exclude": [
    "module",
    "function",
    "builtin_function_or_method",
    "instance",
    "_Feature"
   ],
   "window_display": false
  }
 },
 "nbformat": 4,
 "nbformat_minor": 2
}
