{
 "cells": [
  {
   "cell_type": "markdown",
   "metadata": {},
   "source": [
    "# Lab 8: Define and Solve an ML Problem of Your Choosing"
   ]
  },
  {
   "cell_type": "code",
   "execution_count": 1,
   "metadata": {},
   "outputs": [],
   "source": [
    "import pandas as pd\n",
    "import numpy as np\n",
    "import os \n",
    "import matplotlib.pyplot as plt\n",
    "import seaborn as sns"
   ]
  },
  {
   "cell_type": "markdown",
   "metadata": {},
   "source": [
    "In this lab assignment, you will follow the machine learning life cycle and implement a model to solve a machine learning problem of your choosing. You will select a data set and choose a predictive problem that the data set supports.  You will then inspect the data with your problem in mind and begin to formulate a  project plan. You will then implement the machine learning project plan. \n",
    "\n",
    "You will complete the following tasks:\n",
    "\n",
    "1. Build Your DataFrame\n",
    "2. Define Your ML Problem\n",
    "3. Perform exploratory data analysis to understand your data.\n",
    "4. Define Your Project Plan\n",
    "5. Implement Your Project Plan:\n",
    "    * Prepare your data for your model.\n",
    "    * Fit your model to the training data and evaluate your model.\n",
    "    * Improve your model's performance."
   ]
  },
  {
   "cell_type": "markdown",
   "metadata": {},
   "source": [
    "## Part 1: Build Your DataFrame\n",
    "\n",
    "You will have the option to choose one of four data sets that you have worked with in this program:\n",
    "\n",
    "* The \"census\" data set that contains Census information from 1994: `censusData.csv`\n",
    "* Airbnb NYC \"listings\" data set: `airbnbListingsData.csv`\n",
    "* World Happiness Report (WHR) data set: `WHR2018Chapter2OnlineData.csv`\n",
    "* Book Review data set: `bookReviewsData.csv`\n",
    "\n",
    "Note that these are variations of the data sets that you have worked with in this program. For example, some do not include some of the preprocessing necessary for specific models. \n",
    "\n",
    "#### Load a Data Set and Save it as a Pandas DataFrame\n",
    "\n",
    "The code cell below contains filenames (path + filename) for each of the four data sets available to you.\n",
    "\n",
    "<b>Task:</b> In the code cell below, use the same method you have been using to load the data using `pd.read_csv()` and save it to DataFrame `df`. \n",
    "\n",
    "You can load each file as a new DataFrame to inspect the data before choosing your data set."
   ]
  },
  {
   "cell_type": "code",
   "execution_count": 2,
   "metadata": {},
   "outputs": [
    {
     "name": "stdout",
     "output_type": "stream",
     "text": [
      "    age         workclass  fnlwgt  education  education-num  \\\n",
      "0  39.0         State-gov   77516  Bachelors             13   \n",
      "1  50.0  Self-emp-not-inc   83311  Bachelors             13   \n",
      "2  38.0           Private  215646    HS-grad              9   \n",
      "3  53.0           Private  234721       11th              7   \n",
      "4  28.0           Private  338409  Bachelors             13   \n",
      "\n",
      "       marital-status         occupation   relationship   race  sex_selfID  \\\n",
      "0       Never-married       Adm-clerical  Not-in-family  White  Non-Female   \n",
      "1  Married-civ-spouse    Exec-managerial        Husband  White  Non-Female   \n",
      "2            Divorced  Handlers-cleaners  Not-in-family  White  Non-Female   \n",
      "3  Married-civ-spouse  Handlers-cleaners        Husband  Black  Non-Female   \n",
      "4  Married-civ-spouse     Prof-specialty           Wife  Black      Female   \n",
      "\n",
      "   capital-gain  capital-loss  hours-per-week native-country income_binary  \n",
      "0          2174             0            40.0  United-States         <=50K  \n",
      "1             0             0            13.0  United-States         <=50K  \n",
      "2             0             0            40.0  United-States         <=50K  \n",
      "3             0             0            40.0  United-States         <=50K  \n",
      "4             0             0            40.0           Cuba         <=50K  \n",
      "                                                name  \\\n",
      "0                              Skylit Midtown Castle   \n",
      "1  Whole flr w/private bdrm, bath & kitchen(pls r...   \n",
      "2           Spacious Brooklyn Duplex, Patio + Garden   \n",
      "3                   Large Furnished Room Near B'way　   \n",
      "4                 Cozy Clean Guest Room - Family Apt   \n",
      "\n",
      "                                         description  \\\n",
      "0  Beautiful, spacious skylit studio in the heart...   \n",
      "1  Enjoy 500 s.f. top floor in 1899 brownstone, w...   \n",
      "2  We welcome you to stay in our lovely 2 br dupl...   \n",
      "3  Please don’t expect the luxury here just a bas...   \n",
      "4  Our best guests are seeking a safe, clean, spa...   \n",
      "\n",
      "                               neighborhood_overview    host_name  \\\n",
      "0  Centrally located in the heart of Manhattan ju...     Jennifer   \n",
      "1  Just the right mix of urban center and local n...  LisaRoxanne   \n",
      "2                                                NaN      Rebecca   \n",
      "3    Theater district, many restaurants around here.     Shunichi   \n",
      "4  Our neighborhood is full of restaurants and ca...    MaryEllen   \n",
      "\n",
      "                       host_location  \\\n",
      "0  New York, New York, United States   \n",
      "1  New York, New York, United States   \n",
      "2  Brooklyn, New York, United States   \n",
      "3  New York, New York, United States   \n",
      "4  New York, New York, United States   \n",
      "\n",
      "                                          host_about  host_response_rate  \\\n",
      "0  A New Yorker since 2000! My passion is creatin...                0.80   \n",
      "1  Laid-back Native New Yorker (formerly bi-coast...                0.09   \n",
      "2  Rebecca is an artist/designer, and Henoch is i...                1.00   \n",
      "3  I used to work for a financial industry but no...                1.00   \n",
      "4  Welcome to family life with my oldest two away...                 NaN   \n",
      "\n",
      "   host_acceptance_rate  host_is_superhost  host_listings_count  ...  \\\n",
      "0                  0.17               True                  8.0  ...   \n",
      "1                  0.69               True                  1.0  ...   \n",
      "2                  0.25               True                  1.0  ...   \n",
      "3                  1.00               True                  1.0  ...   \n",
      "4                   NaN               True                  1.0  ...   \n",
      "\n",
      "   review_scores_communication  review_scores_location  review_scores_value  \\\n",
      "0                         4.79                    4.86                 4.41   \n",
      "1                         4.80                    4.71                 4.64   \n",
      "2                         5.00                    4.50                 5.00   \n",
      "3                         4.42                    4.87                 4.36   \n",
      "4                         4.95                    4.94                 4.92   \n",
      "\n",
      "  instant_bookable calculated_host_listings_count  \\\n",
      "0            False                              3   \n",
      "1            False                              1   \n",
      "2            False                              1   \n",
      "3            False                              1   \n",
      "4            False                              1   \n",
      "\n",
      "   calculated_host_listings_count_entire_homes  \\\n",
      "0                                            3   \n",
      "1                                            1   \n",
      "2                                            1   \n",
      "3                                            0   \n",
      "4                                            0   \n",
      "\n",
      "   calculated_host_listings_count_private_rooms  \\\n",
      "0                                             0   \n",
      "1                                             0   \n",
      "2                                             0   \n",
      "3                                             1   \n",
      "4                                             1   \n",
      "\n",
      "   calculated_host_listings_count_shared_rooms  reviews_per_month  \\\n",
      "0                                            0               0.33   \n",
      "1                                            0               4.86   \n",
      "2                                            0               0.02   \n",
      "3                                            0               3.68   \n",
      "4                                            0               0.87   \n",
      "\n",
      "  n_host_verifications  \n",
      "0                    9  \n",
      "1                    6  \n",
      "2                    3  \n",
      "3                    4  \n",
      "4                    7  \n",
      "\n",
      "[5 rows x 50 columns]\n",
      "       country  year  Life Ladder  Log GDP per capita  Social support  \\\n",
      "0  Afghanistan  2008     3.723590            7.168690        0.450662   \n",
      "1  Afghanistan  2009     4.401778            7.333790        0.552308   \n",
      "2  Afghanistan  2010     4.758381            7.386629        0.539075   \n",
      "3  Afghanistan  2011     3.831719            7.415019        0.521104   \n",
      "4  Afghanistan  2012     3.782938            7.517126        0.520637   \n",
      "\n",
      "   Healthy life expectancy at birth  Freedom to make life choices  Generosity  \\\n",
      "0                         49.209663                      0.718114    0.181819   \n",
      "1                         49.624432                      0.678896    0.203614   \n",
      "2                         50.008961                      0.600127    0.137630   \n",
      "3                         50.367298                      0.495901    0.175329   \n",
      "4                         50.709263                      0.530935    0.247159   \n",
      "\n",
      "   Perceptions of corruption  Positive affect  Negative affect  \\\n",
      "0                   0.881686         0.517637         0.258195   \n",
      "1                   0.850035         0.583926         0.237092   \n",
      "2                   0.706766         0.618265         0.275324   \n",
      "3                   0.731109         0.611387         0.267175   \n",
      "4                   0.775620         0.710385         0.267919   \n",
      "\n",
      "   Confidence in national government  Democratic Quality  Delivery Quality  \\\n",
      "0                           0.612072           -1.929690         -1.655084   \n",
      "1                           0.611545           -2.044093         -1.635025   \n",
      "2                           0.299357           -1.991810         -1.617176   \n",
      "3                           0.307386           -1.919018         -1.616221   \n",
      "4                           0.435440           -1.842996         -1.404078   \n",
      "\n",
      "   Standard deviation of ladder by country-year  \\\n",
      "0                                      1.774662   \n",
      "1                                      1.722688   \n",
      "2                                      1.878622   \n",
      "3                                      1.785360   \n",
      "4                                      1.798283   \n",
      "\n",
      "   Standard deviation/Mean of ladder by country-year  \\\n",
      "0                                           0.476600   \n",
      "1                                           0.391362   \n",
      "2                                           0.394803   \n",
      "3                                           0.465942   \n",
      "4                                           0.475367   \n",
      "\n",
      "   GINI index (World Bank estimate)  \\\n",
      "0                               NaN   \n",
      "1                               NaN   \n",
      "2                               NaN   \n",
      "3                               NaN   \n",
      "4                               NaN   \n",
      "\n",
      "   GINI index (World Bank estimate), average 2000-15  \\\n",
      "0                                                NaN   \n",
      "1                                                NaN   \n",
      "2                                                NaN   \n",
      "3                                                NaN   \n",
      "4                                                NaN   \n",
      "\n",
      "   gini of household income reported in Gallup, by wp5-year  \n",
      "0                                                NaN         \n",
      "1                                           0.441906         \n",
      "2                                           0.327318         \n",
      "3                                           0.336764         \n",
      "4                                           0.344540         \n",
      "                                              Review  Positive Review\n",
      "0  This was perhaps the best of Johannes Steinhof...             True\n",
      "1  This very fascinating book is a story written ...             True\n",
      "2  The four tales in this collection are beautifu...             True\n",
      "3  The book contained more profanity than I expec...            False\n",
      "4  We have now entered a second time of deep conc...             True\n"
     ]
    }
   ],
   "source": [
    "# File names of the four data sets\n",
    "adultDataSet_filename = os.path.join(os.getcwd(), \"data\", \"censusData.csv\")\n",
    "airbnbDataSet_filename = os.path.join(os.getcwd(), \"data\", \"airbnbListingsData.csv\")\n",
    "WHRDataSet_filename = os.path.join(os.getcwd(), \"data\", \"WHR2018Chapter2OnlineData.csv\")\n",
    "bookReviewDataSet_filename = os.path.join(os.getcwd(), \"data\", \"bookReviewsData.csv\")\n",
    "\n",
    "df1 = pd.read_csv(adultDataSet_filename)\n",
    "df2 = pd.read_csv(airbnbDataSet_filename)\n",
    "df3 = pd.read_csv(WHRDataSet_filename)\n",
    "df4 = pd.read_csv(bookReviewDataSet_filename)\n",
    "\n",
    "print(df1.head())  # Census\n",
    "print(df2.head())  # Airbnb\n",
    "print(df3.head())  # WHR\n",
    "print(df4.head())  # Book Reviews"
   ]
  },
  {
   "cell_type": "code",
   "execution_count": 3,
   "metadata": {},
   "outputs": [
    {
     "data": {
      "text/html": [
       "<div>\n",
       "<style scoped>\n",
       "    .dataframe tbody tr th:only-of-type {\n",
       "        vertical-align: middle;\n",
       "    }\n",
       "\n",
       "    .dataframe tbody tr th {\n",
       "        vertical-align: top;\n",
       "    }\n",
       "\n",
       "    .dataframe thead th {\n",
       "        text-align: right;\n",
       "    }\n",
       "</style>\n",
       "<table border=\"1\" class=\"dataframe\">\n",
       "  <thead>\n",
       "    <tr style=\"text-align: right;\">\n",
       "      <th></th>\n",
       "      <th>Review</th>\n",
       "      <th>Positive Review</th>\n",
       "    </tr>\n",
       "  </thead>\n",
       "  <tbody>\n",
       "    <tr>\n",
       "      <th>0</th>\n",
       "      <td>This was perhaps the best of Johannes Steinhof...</td>\n",
       "      <td>True</td>\n",
       "    </tr>\n",
       "    <tr>\n",
       "      <th>1</th>\n",
       "      <td>This very fascinating book is a story written ...</td>\n",
       "      <td>True</td>\n",
       "    </tr>\n",
       "    <tr>\n",
       "      <th>2</th>\n",
       "      <td>The four tales in this collection are beautifu...</td>\n",
       "      <td>True</td>\n",
       "    </tr>\n",
       "    <tr>\n",
       "      <th>3</th>\n",
       "      <td>The book contained more profanity than I expec...</td>\n",
       "      <td>False</td>\n",
       "    </tr>\n",
       "    <tr>\n",
       "      <th>4</th>\n",
       "      <td>We have now entered a second time of deep conc...</td>\n",
       "      <td>True</td>\n",
       "    </tr>\n",
       "  </tbody>\n",
       "</table>\n",
       "</div>"
      ],
      "text/plain": [
       "                                              Review  Positive Review\n",
       "0  This was perhaps the best of Johannes Steinhof...             True\n",
       "1  This very fascinating book is a story written ...             True\n",
       "2  The four tales in this collection are beautifu...             True\n",
       "3  The book contained more profanity than I expec...            False\n",
       "4  We have now entered a second time of deep conc...             True"
      ]
     },
     "execution_count": 3,
     "metadata": {},
     "output_type": "execute_result"
    }
   ],
   "source": [
    "# My Chosen Data Set\n",
    "bookReviewDataSet_filename = os.path.join(os.getcwd(), \"data\", \"bookReviewsData.csv\")\n",
    "\n",
    "# Load the CSV file into a DataFrame\n",
    "df = pd.read_csv(bookReviewDataSet_filename)\n",
    "\n",
    "# Display the first few rows\n",
    "df.head()"
   ]
  },
  {
   "cell_type": "markdown",
   "metadata": {},
   "source": [
    "## Part 2: Define Your ML Problem\n",
    "\n",
    "Next you will formulate your ML Problem. In the markdown cell below, answer the following questions:\n",
    "\n",
    "1. List the data set you have chosen.\n",
    "2. What will you be predicting? What is the label?\n",
    "3. Is this a supervised or unsupervised learning problem? Is this a clustering, classification or regression problem? Is it a binary classificaiton or multi-class classifiction problem?\n",
    "4. What are your features? (note: this list may change after your explore your data)\n",
    "5. Explain why this is an important problem. In other words, how would a company create value with a model that predicts this label?"
   ]
  },
  {
   "cell_type": "markdown",
   "metadata": {},
   "source": [
    "1. **Dataset Chosen:**  \n",
    "   I have chosen the **Book Reviews** dataset.\n",
    "\n",
    "2. **What will you be predicting? What is the label?**  \n",
    "   I will be predicting whether a book review is **positive** or **not**. The label is the `Positive Review` column, which is a Boolean value (`True` or `False`).\n",
    "\n",
    "3. **Is this a supervised or unsupervised learning problem?**  \n",
    "   This is a **supervised learning** problem, since the model will learn from labeled data (text reviews paired with a known positive/negative label).  \n",
    "   It is a **binary classification** problem because the model must predict one of two classes: positive or not.\n",
    "\n",
    "4. **What are your features?**  \n",
    "   The main feature is the **review text** from the `Review` column. I will transform the text into numerical features using techniques such as **TF-IDF vectorization**, which helps convert free-form text into something a machine learning model can understand.\n",
    "\n",
    "5. **Why is this an important problem?**  \n",
    "   Automatically identifying sentiment in customer reviews is highly valuable for businesses. It allows platforms to:\n",
    "   - Gauge customer satisfaction in real-time  \n",
    "   - Highlight well-received books  \n",
    "   - Detect and respond to negative feedback early  \n",
    "   - Drive recommendations and improve product offerings  \n",
    "\n",
    "   A company could use this model to automate moderation, generate insights for marketing, or flag concerning feedback for human review.\n"
   ]
  },
  {
   "cell_type": "markdown",
   "metadata": {},
   "source": [
    "## Part 3: Understand Your Data\n",
    "\n",
    "The next step is to perform exploratory data analysis. Inspect and analyze your data set with your machine learning problem in mind. Consider the following as you inspect your data:\n",
    "\n",
    "1. What data preparation techniques would you like to use? These data preparation techniques may include:\n",
    "\n",
    "    * addressing missingness, such as replacing missing values with means\n",
    "    * finding and replacing outliers\n",
    "    * renaming features and labels\n",
    "    * finding and replacing outliers\n",
    "    * performing feature engineering techniques such as one-hot encoding on categorical features\n",
    "    * selecting appropriate features and removing irrelevant features\n",
    "    * performing specific data cleaning and preprocessing techniques for an NLP problem\n",
    "    * addressing class imbalance in your data sample to promote fair AI\n",
    "    \n",
    "\n",
    "2. What machine learning model (or models) you would like to use that is suitable for your predictive problem and data?\n",
    "    * Are there other data preparation techniques that you will need to apply to build a balanced modeling data set for your problem and model? For example, will you need to scale your data?\n",
    " \n",
    " \n",
    "3. How will you evaluate and improve the model's performance?\n",
    "    * Are there specific evaluation metrics and methods that are appropriate for your model?\n",
    "    \n",
    "\n",
    "Think of the different techniques you have used to inspect and analyze your data in this course. These include using Pandas to apply data filters, using the Pandas `describe()` method to get insight into key statistics for each column, using the Pandas `dtypes` property to inspect the data type of each column, and using Matplotlib and Seaborn to detect outliers and visualize relationships between features and labels. If you are working on a classification problem, use techniques you have learned to determine if there is class imbalance.\n",
    "\n",
    "<b>Task</b>: Use the techniques you have learned in this course to inspect and analyze your data. You can import additional packages that you have used in this course that you will need to perform this task.\n",
    "\n",
    "<b>Note</b>: You can add code cells if needed by going to the <b>Insert</b> menu and clicking on <b>Insert Cell Below</b> in the drop-drown menu."
   ]
  },
  {
   "cell_type": "code",
   "execution_count": 4,
   "metadata": {},
   "outputs": [
    {
     "name": "stdout",
     "output_type": "stream",
     "text": [
      "Shape of dataset: (1973, 2)\n",
      "\n",
      "Column data types:\n",
      " Review             object\n",
      "Positive Review      bool\n",
      "dtype: object\n",
      "\n",
      "Missing values:\n",
      " Review             0\n",
      "Positive Review    0\n",
      "dtype: int64\n"
     ]
    },
    {
     "data": {
      "text/html": [
       "<div>\n",
       "<style scoped>\n",
       "    .dataframe tbody tr th:only-of-type {\n",
       "        vertical-align: middle;\n",
       "    }\n",
       "\n",
       "    .dataframe tbody tr th {\n",
       "        vertical-align: top;\n",
       "    }\n",
       "\n",
       "    .dataframe thead th {\n",
       "        text-align: right;\n",
       "    }\n",
       "</style>\n",
       "<table border=\"1\" class=\"dataframe\">\n",
       "  <thead>\n",
       "    <tr style=\"text-align: right;\">\n",
       "      <th></th>\n",
       "      <th>Review</th>\n",
       "      <th>Positive Review</th>\n",
       "    </tr>\n",
       "  </thead>\n",
       "  <tbody>\n",
       "    <tr>\n",
       "      <th>1330</th>\n",
       "      <td>I must say I enjoyed the book, but the ending ...</td>\n",
       "      <td>False</td>\n",
       "    </tr>\n",
       "    <tr>\n",
       "      <th>1559</th>\n",
       "      <td>I was very disappointed in the content. There ...</td>\n",
       "      <td>False</td>\n",
       "    </tr>\n",
       "    <tr>\n",
       "      <th>874</th>\n",
       "      <td>This book was written in 1982, updated in 1995...</td>\n",
       "      <td>False</td>\n",
       "    </tr>\n",
       "    <tr>\n",
       "      <th>1753</th>\n",
       "      <td>This is J.A. Jance at her worst and the reader...</td>\n",
       "      <td>False</td>\n",
       "    </tr>\n",
       "    <tr>\n",
       "      <th>1521</th>\n",
       "      <td>This is the best reference I've seen for IT in...</td>\n",
       "      <td>True</td>\n",
       "    </tr>\n",
       "  </tbody>\n",
       "</table>\n",
       "</div>"
      ],
      "text/plain": [
       "                                                 Review  Positive Review\n",
       "1330  I must say I enjoyed the book, but the ending ...            False\n",
       "1559  I was very disappointed in the content. There ...            False\n",
       "874   This book was written in 1982, updated in 1995...            False\n",
       "1753  This is J.A. Jance at her worst and the reader...            False\n",
       "1521  This is the best reference I've seen for IT in...             True"
      ]
     },
     "execution_count": 4,
     "metadata": {},
     "output_type": "execute_result"
    }
   ],
   "source": [
    "### 1: Basic Overview & Missing Values\n",
    "\n",
    "# Basic shape and column info\n",
    "print(\"Shape of dataset:\", df.shape)\n",
    "print(\"\\nColumn data types:\\n\", df.dtypes)\n",
    "\n",
    "# Check for missing values\n",
    "print(\"\\nMissing values:\\n\", df.isnull().sum())\n",
    "\n",
    "# Preview a few rows\n",
    "df.sample(5)"
   ]
  },
  {
   "cell_type": "code",
   "execution_count": 5,
   "metadata": {},
   "outputs": [
    {
     "data": {
      "text/plain": [
       "False    0.503294\n",
       "True     0.496706\n",
       "Name: Positive Review, dtype: float64"
      ]
     },
     "execution_count": 5,
     "metadata": {},
     "output_type": "execute_result"
    }
   ],
   "source": [
    "# 2. Check Class Distribution\n",
    "df['Positive Review'].value_counts(normalize=True)"
   ]
  },
  {
   "cell_type": "code",
   "execution_count": 6,
   "metadata": {},
   "outputs": [
    {
     "name": "stderr",
     "output_type": "stream",
     "text": [
      "[nltk_data] Downloading package stopwords to /home/ubuntu/nltk_data...\n",
      "[nltk_data]   Package stopwords is already up-to-date!\n"
     ]
    },
    {
     "data": {
      "text/html": [
       "<div>\n",
       "<style scoped>\n",
       "    .dataframe tbody tr th:only-of-type {\n",
       "        vertical-align: middle;\n",
       "    }\n",
       "\n",
       "    .dataframe tbody tr th {\n",
       "        vertical-align: top;\n",
       "    }\n",
       "\n",
       "    .dataframe thead th {\n",
       "        text-align: right;\n",
       "    }\n",
       "</style>\n",
       "<table border=\"1\" class=\"dataframe\">\n",
       "  <thead>\n",
       "    <tr style=\"text-align: right;\">\n",
       "      <th></th>\n",
       "      <th>Review</th>\n",
       "      <th>Cleaned Review</th>\n",
       "    </tr>\n",
       "  </thead>\n",
       "  <tbody>\n",
       "    <tr>\n",
       "      <th>0</th>\n",
       "      <td>This was perhaps the best of Johannes Steinhof...</td>\n",
       "      <td>perhaps best johannes steinhoffs books since d...</td>\n",
       "    </tr>\n",
       "    <tr>\n",
       "      <th>1</th>\n",
       "      <td>This very fascinating book is a story written ...</td>\n",
       "      <td>fascinating book story written form numerous l...</td>\n",
       "    </tr>\n",
       "    <tr>\n",
       "      <th>2</th>\n",
       "      <td>The four tales in this collection are beautifu...</td>\n",
       "      <td>four tales collection beautifully composed art...</td>\n",
       "    </tr>\n",
       "    <tr>\n",
       "      <th>3</th>\n",
       "      <td>The book contained more profanity than I expec...</td>\n",
       "      <td>book contained profanity expected read book ri...</td>\n",
       "    </tr>\n",
       "    <tr>\n",
       "      <th>4</th>\n",
       "      <td>We have now entered a second time of deep conc...</td>\n",
       "      <td>entered second time deep concern science math ...</td>\n",
       "    </tr>\n",
       "  </tbody>\n",
       "</table>\n",
       "</div>"
      ],
      "text/plain": [
       "                                              Review  \\\n",
       "0  This was perhaps the best of Johannes Steinhof...   \n",
       "1  This very fascinating book is a story written ...   \n",
       "2  The four tales in this collection are beautifu...   \n",
       "3  The book contained more profanity than I expec...   \n",
       "4  We have now entered a second time of deep conc...   \n",
       "\n",
       "                                      Cleaned Review  \n",
       "0  perhaps best johannes steinhoffs books since d...  \n",
       "1  fascinating book story written form numerous l...  \n",
       "2  four tales collection beautifully composed art...  \n",
       "3  book contained profanity expected read book ri...  \n",
       "4  entered second time deep concern science math ...  "
      ]
     },
     "execution_count": 6,
     "metadata": {},
     "output_type": "execute_result"
    }
   ],
   "source": [
    "# 3. Preprocessing the Data\n",
    "# !pip install nltk\n",
    "\n",
    "import re\n",
    "import string\n",
    "import nltk\n",
    "from nltk.corpus import stopwords\n",
    "\n",
    "nltk.download('stopwords')\n",
    "stop_words = set(stopwords.words('english'))\n",
    "\n",
    "def clean_text(text):\n",
    "    text = text.lower()  # lowercase\n",
    "    text = re.sub(f\"[{re.escape(string.punctuation)}]\", \"\", text)  # remove punctuation\n",
    "    tokens = text.split()  # tokenize\n",
    "    tokens = [word for word in tokens if word not in stop_words]  # remove stopwords\n",
    "    return \" \".join(tokens)\n",
    "\n",
    "# Apply cleaning to a new column\n",
    "df['Cleaned Review'] = df['Review'].apply(clean_text)\n",
    "\n",
    "# Preview cleaned reviews\n",
    "df[['Review', 'Cleaned Review']].head()"
   ]
  },
  {
   "cell_type": "code",
   "execution_count": 7,
   "metadata": {},
   "outputs": [
    {
     "name": "stdout",
     "output_type": "stream",
     "text": [
      "TF-IDF matrix shape: (1973, 5000)\n"
     ]
    }
   ],
   "source": [
    "# 4. Vectorizing Text with TF-IDF\n",
    "\n",
    "from sklearn.feature_extraction.text import TfidfVectorizer\n",
    "\n",
    "# Initialize TF-IDF vectorizer (limit max features to keep computation manageable)\n",
    "tfidf = TfidfVectorizer(max_features=5000)\n",
    "\n",
    "# Fit and transform the cleaned reviews into a TF-IDF matrix\n",
    "X = tfidf.fit_transform(df['Cleaned Review'])\n",
    "\n",
    "print(f\"TF-IDF matrix shape: {X.shape}\")"
   ]
  },
  {
   "cell_type": "code",
   "execution_count": 8,
   "metadata": {},
   "outputs": [
    {
     "name": "stdout",
     "output_type": "stream",
     "text": [
      "Training set size: 1578 samples\n",
      "Test set size: 395 samples\n"
     ]
    }
   ],
   "source": [
    "# 5. Prepare and Split the Data\n",
    "\n",
    "from sklearn.model_selection import train_test_split\n",
    "\n",
    "# Features matrix from TF-IDF vectorizer is X\n",
    "# Labels: Convert boolean to int (True=1, False=0)\n",
    "y = df['Positive Review'].astype(int)\n",
    "\n",
    "# Split into train and test sets (80% train, 20% test)\n",
    "X_train, X_test, y_train, y_test = train_test_split(X, y, test_size=0.2, random_state=42)\n",
    "\n",
    "print(f\"Training set size: {X_train.shape[0]} samples\")\n",
    "print(f\"Test set size: {X_test.shape[0]} samples\")"
   ]
  },
  {
   "cell_type": "code",
   "execution_count": 9,
   "metadata": {},
   "outputs": [
    {
     "name": "stdout",
     "output_type": "stream",
     "text": [
      "Test Accuracy: 0.8557\n",
      "\n",
      "Classification Report:\n",
      "              precision    recall  f1-score   support\n",
      "\n",
      "           0       0.86      0.85      0.85       195\n",
      "           1       0.86      0.86      0.86       200\n",
      "\n",
      "    accuracy                           0.86       395\n",
      "   macro avg       0.86      0.86      0.86       395\n",
      "weighted avg       0.86      0.86      0.86       395\n",
      "\n"
     ]
    },
    {
     "data": {
      "image/png": "[encoded data removed]",
      "text/plain": [
       "<Figure size 640x480 with 2 Axes>"
      ]
     },
     "metadata": {},
     "output_type": "display_data"
    }
   ],
   "source": [
    "# 6. Train a Logistic Regression Model\n",
    "\n",
    "from sklearn.linear_model import LogisticRegression\n",
    "from sklearn.metrics import accuracy_score, classification_report, confusion_matrix\n",
    "\n",
    "# Initialize logistic regression model\n",
    "model = LogisticRegression(max_iter=1000, random_state=42)\n",
    "\n",
    "# Train model\n",
    "model.fit(X_train, y_train)\n",
    "\n",
    "# Predict on test set\n",
    "y_pred = model.predict(X_test)\n",
    "\n",
    "# Evaluate accuracy\n",
    "accuracy = accuracy_score(y_test, y_pred)\n",
    "print(f\"Test Accuracy: {accuracy:.4f}\")\n",
    "\n",
    "# Detailed classification report\n",
    "print(\"\\nClassification Report:\")\n",
    "print(classification_report(y_test, y_pred))\n",
    "\n",
    "# Confusion matrix plot\n",
    "import seaborn as sns\n",
    "import matplotlib.pyplot as plt\n",
    "\n",
    "cm = confusion_matrix(y_test, y_pred)\n",
    "sns.heatmap(cm, annot=True, fmt='d', cmap='Blues', xticklabels=['False', 'True'], yticklabels=['False', 'True'])\n",
    "plt.xlabel('Predicted')\n",
    "plt.ylabel('Actual')\n",
    "plt.title('Confusion Matrix')\n",
    "plt.show()"
   ]
  },
  {
   "cell_type": "markdown",
   "metadata": {},
   "source": [
    "## Part 4: Define Your Project Plan\n",
    "\n",
    "Now that you understand your data, in the markdown cell below, define your plan to implement the remaining phases of the machine learning life cycle (data preparation, modeling, evaluation) to solve your ML problem. Answer the following questions:\n",
    "\n",
    "* Do you have a new feature list? If so, what are the features that you chose to keep and remove after inspecting the data? \n",
    "* Explain different data preparation techniques that you will use to prepare your data for modeling.\n",
    "* What is your model (or models)?\n",
    "* Describe your plan to train your model, analyze its performance and then improve the model. That is, describe your model building, validation and selection plan to produce a model that generalizes well to new data. "
   ]
  },
  {
   "cell_type": "markdown",
   "metadata": {},
   "source": [
    "# Project Plan\n",
    "\n",
    "**Feature Selection:**  \n",
    "I will keep the 'Cleaned Review' text feature transformed into TF-IDF vectors as my main feature set. I will not use the original text directly or any other columns since this dataset only contains the review text and label.\n",
    "\n",
    "**Data Preparation Techniques:**  \n",
    "- Text cleaning (lowercasing, punctuation removal, stopwords removal)  \n",
    "- TF-IDF vectorization to convert text into numerical features  \n",
    "- Train-test split for unbiased evaluation  \n",
    "- No missing values to handle in this dataset  \n",
    "- Consider balancing techniques if class imbalance becomes an issue (currently roughly balanced)\n",
    "\n",
    "**Models to Use:**  \n",
    "- Logistic Regression as the baseline model for binary classification  \n",
    "- I could explore other models such as Random Forest or Support Vector Machines to compare performance.\n",
    "\n",
    "**Model Training, Evaluation, and Improvement Plan:**  \n",
    "- Train models on training data and evaluate using accuracy, precision, recall, and F1-score on the test set  \n",
    "- Use confusion matrices to understand types of errors  \n",
    "- Perform hyperparameter tuning (e.g., adjusting regularization in Logistic Regression)  \n",
    "- Potentially use cross-validation for more robust evaluation  \n",
    "- If necessary, try feature engineering like n-grams or removing rare words  \n",
    "- Analyze model errors to identify improvement opportunities\n",
    "\n",
    "This plan aims to build a classifier that generalizes well to unseen book reviews."
   ]
  },
  {
   "cell_type": "markdown",
   "metadata": {},
   "source": [
    "## Part 5: Implement Your Project Plan\n",
    "\n",
    "<b>Task:</b> In the code cell below, import additional packages that you have used in this course that you will need to implement your project plan."
   ]
  },
  {
   "cell_type": "code",
   "execution_count": 10,
   "metadata": {},
   "outputs": [],
   "source": [
    "from sklearn.ensemble import RandomForestClassifier\n",
    "from sklearn.svm import SVC\n",
    "from sklearn.model_selection import GridSearchCV, cross_val_score\n",
    "from sklearn.metrics import precision_score, recall_score, f1_score, roc_auc_score, ConfusionMatrixDisplay\n",
    "import matplotlib.pyplot as plt\n",
    "import seaborn as sns"
   ]
  },
  {
   "cell_type": "markdown",
   "metadata": {},
   "source": [
    "<b>Task:</b> Use the rest of this notebook to carry out your project plan. \n",
    "\n",
    "You will:\n",
    "\n",
    "1. Prepare your data for your model.\n",
    "2. Fit your model to the training data and evaluate your model.\n",
    "3. Improve your model's performance by performing model selection and/or feature selection techniques to find best model for your problem.\n",
    "\n",
    "Add code cells below and populate the notebook with commentary, code, analyses, results, and figures as you see fit. "
   ]
  },
  {
   "cell_type": "code",
   "execution_count": 11,
   "metadata": {},
   "outputs": [
    {
     "name": "stdout",
     "output_type": "stream",
     "text": [
      "Random Forest Accuracy: 0.8253164556962025\n",
      "Classification Report:\n",
      "               precision    recall  f1-score   support\n",
      "\n",
      "           0       0.81      0.84      0.83       195\n",
      "           1       0.84      0.81      0.83       200\n",
      "\n",
      "    accuracy                           0.83       395\n",
      "   macro avg       0.83      0.83      0.83       395\n",
      "weighted avg       0.83      0.83      0.83       395\n",
      "\n"
     ]
    },
    {
     "data": {
      "image/png": "[encoded data removed]",
      "text/plain": [
       "<Figure size 640x480 with 2 Axes>"
      ]
     },
     "metadata": {},
     "output_type": "display_data"
    }
   ],
   "source": [
    "# Initialize Random Forest\n",
    "rf = RandomForestClassifier(random_state=42)\n",
    "\n",
    "# Train\n",
    "rf.fit(X_train, y_train)\n",
    "\n",
    "# Predict\n",
    "y_pred_rf = rf.predict(X_test)\n",
    "\n",
    "# Evaluate\n",
    "print(\"Random Forest Accuracy:\", accuracy_score(y_test, y_pred_rf))\n",
    "print(\"Classification Report:\\n\", classification_report(y_test, y_pred_rf))\n",
    "\n",
    "# Confusion matrix plot\n",
    "ConfusionMatrixDisplay.from_estimator(rf, X_test, y_test, cmap='Blues')\n",
    "plt.title(\"Random Forest Confusion Matrix\")\n",
    "plt.show()"
   ]
  },
  {
   "cell_type": "code",
   "execution_count": 12,
   "metadata": {},
   "outputs": [
    {
     "name": "stdout",
     "output_type": "stream",
     "text": [
      "Best parameters: {'C': 10}\n",
      "Best cross-val F1 score: 0.799116825182295\n",
      "Test set classification report:\n",
      "              precision    recall  f1-score   support\n",
      "\n",
      "           0       0.86      0.85      0.85       195\n",
      "           1       0.85      0.86      0.86       200\n",
      "\n",
      "    accuracy                           0.86       395\n",
      "   macro avg       0.86      0.86      0.86       395\n",
      "weighted avg       0.86      0.86      0.86       395\n",
      "\n"
     ]
    }
   ],
   "source": [
    "# Hyperparameter tuning for Logistic Regression\n",
    "param_grid = {'C': [0.01, 0.1, 1, 10, 100]}\n",
    "\n",
    "grid_search = GridSearchCV(LogisticRegression(max_iter=1000, random_state=42), param_grid, cv=5, scoring='f1')\n",
    "grid_search.fit(X_train, y_train)\n",
    "\n",
    "print(\"Best parameters:\", grid_search.best_params_)\n",
    "print(\"Best cross-val F1 score:\", grid_search.best_score_)\n",
    "\n",
    "# Predict with best model\n",
    "best_lr = grid_search.best_estimator_\n",
    "y_pred_best = best_lr.predict(X_test)\n",
    "print(\"Test set classification report:\")\n",
    "print(classification_report(y_test, y_pred_best))"
   ]
  },
  {
   "cell_type": "markdown",
   "metadata": {},
   "source": [
    "### Model Building and Evaluation\n",
    "\n",
    "I trained two models to classify book reviews as positive or negative: a Random Forest classifier and a Logistic Regression model with hyperparameter tuning.\n",
    "\n",
    "- The Random Forest achieved about 82.5% accuracy with balanced precision and recall, but performed slightly worse than Logistic Regression.\n",
    "- Using GridSearchCV, I tuned the regularization parameter `C` for Logistic Regression and found `C=10` as the best value. This model achieved approximately 86% accuracy with balanced precision, recall, and F1-score for both classes.\n",
    "- Overall, Logistic Regression with tuning outperformed Random Forest on all metrics, suggesting it is a better fit for this text classification problem.\n",
    "\n",
    "For future work, I might explore more feature engineering (like n-grams), try other models such as SVM, or experiment with ensemble methods and neural networks to see if I can improve performance further. But for now, these results provide a solid baseline."
   ]
  }
 ],
 "metadata": {
  "kernelspec": {
   "display_name": "Python 3 (ipykernel)",
   "language": "python",
   "name": "python3"
  },
  "language_info": {
   "codemirror_mode": {
    "name": "ipython",
    "version": 3
   },
   "file_extension": ".py",
   "mimetype": "text/x-python",
   "name": "python",
   "nbconvert_exporter": "python",
   "pygments_lexer": "ipython3",
   "version": "3.9.19"
  },
  "toc": {
   "base_numbering": 1,
   "nav_menu": {},
   "number_sections": false,
   "sideBar": true,
   "skip_h1_title": false,
   "title_cell": "Table of Contents",
   "title_sidebar": "Contents",
   "toc_cell": false,
   "toc_position": {},
   "toc_section_display": true,
   "toc_window_display": false
  },
  "varInspector": {
   "cols": {
    "lenName": 16,
    "lenType": 16,
    "lenVar": 40
   },
   "kernels_config": {
    "python": {
     "delete_cmd_postfix": "",
     "delete_cmd_prefix": "del ",
     "library": "var_list.py",
     "varRefreshCmd": "print(var_dic_list())"
    },
    "r": {
     "delete_cmd_postfix": ") ",
     "delete_cmd_prefix": "rm(",
     "library": "var_list.r",
     "varRefreshCmd": "cat(var_dic_list()) "
    }
   },
   "types_to_exclude": [
    "module",
    "function",
    "builtin_function_or_method",
    "instance",
    "_Feature"
   ],
   "window_display": false
  }
 },
 "nbformat": 4,
 "nbformat_minor": 4
}
